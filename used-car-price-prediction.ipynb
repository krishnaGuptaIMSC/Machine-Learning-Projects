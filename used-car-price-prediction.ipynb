{
 "cells": [
  {
   "cell_type": "markdown",
   "metadata": {},
   "source": [
    "# Used Car Price Prediction\n",
    "\n",
    "<font color=\"Green\"> 3rd, 4th and 5th (End date: 12th of July,2020)  Day of my KaggleStreak </font>\n",
    "\n",
    "So called Second hand's car have a huge market base.\n",
    "Many consider to buy a Used Car intsead of buying of new one, as it's is feasible and a better investment.\n",
    "\n",
    "The main reason for this huge market is that when you buy a New Car and sale it just another day without any default on it, the price of car reduces by 30%.\n",
    "\n",
    "There are also many frauds in the market who not only sale wrong but also they could mislead to wrong price.\n",
    "\n",
    "So, here I used this following dataset to Predict the price of any used car.\n",
    "\n",
    "Do give <font color=\"Red\"> UPVOTE </font>\n",
    "\n",
    "**I WILL BE ADDING LINK OF DEPLOYED MODEL SOON IN COMMENT SECTION**\n",
    "**If not done till Know**"
   ]
  },
  {
   "cell_type": "code",
   "execution_count": 118,
   "metadata": {},
   "outputs": [],
   "source": [
    "# Importing necessary libraries\n",
    "import numpy as np\n",
    "import pandas as pd\n",
    "import matplotlib.pyplot as plt\n",
    "import seaborn as sns\n",
    "sns.set()"
   ]
  },
  {
   "cell_type": "code",
   "execution_count": 119,
   "metadata": {
    "_cell_guid": "b1076dfc-b9ad-4769-8c92-a6c4dae69d19",
    "_uuid": "8f2839f25d086af736a60e9eeb907d3b93b6e0e5"
   },
   "outputs": [],
   "source": [
    "train_data = pd.read_csv('C:/Users/krish/Downloads/train-data.csv')\n",
    "test_data = pd.read_csv('C:/Users/krish/Downloads/test-data.csv')"
   ]
  },
  {
   "cell_type": "code",
   "execution_count": 120,
   "metadata": {
    "_cell_guid": "79c7e3d0-c299-4dcb-8224-4455121ee9b0",
    "_uuid": "d629ff2d2480ee46fbb7e2d37f6b5fab8052498a"
   },
   "outputs": [
    {
     "name": "stdout",
     "output_type": "stream",
     "text": [
      "<class 'pandas.core.frame.DataFrame'>\n",
      "RangeIndex: 6019 entries, 0 to 6018\n",
      "Data columns (total 14 columns):\n",
      " #   Column             Non-Null Count  Dtype  \n",
      "---  ------             --------------  -----  \n",
      " 0   Unnamed: 0         6019 non-null   int64  \n",
      " 1   Name               6019 non-null   object \n",
      " 2   Location           6019 non-null   object \n",
      " 3   Year               6019 non-null   int64  \n",
      " 4   Kilometers_Driven  6019 non-null   int64  \n",
      " 5   Fuel_Type          6019 non-null   object \n",
      " 6   Transmission       6019 non-null   object \n",
      " 7   Owner_Type         6019 non-null   object \n",
      " 8   Mileage            6017 non-null   object \n",
      " 9   Engine             5983 non-null   object \n",
      " 10  Power              5983 non-null   object \n",
      " 11  Seats              5977 non-null   float64\n",
      " 12  New_Price          824 non-null    object \n",
      " 13  Price              6019 non-null   float64\n",
      "dtypes: float64(2), int64(3), object(9)\n",
      "memory usage: 658.5+ KB\n"
     ]
    }
   ],
   "source": [
    "train_data.info()"
   ]
  },
  {
   "cell_type": "code",
   "execution_count": 121,
   "metadata": {},
   "outputs": [
    {
     "data": {
      "text/html": [
       "<div>\n",
       "<style scoped>\n",
       "    .dataframe tbody tr th:only-of-type {\n",
       "        vertical-align: middle;\n",
       "    }\n",
       "\n",
       "    .dataframe tbody tr th {\n",
       "        vertical-align: top;\n",
       "    }\n",
       "\n",
       "    .dataframe thead th {\n",
       "        text-align: right;\n",
       "    }\n",
       "</style>\n",
       "<table border=\"1\" class=\"dataframe\">\n",
       "  <thead>\n",
       "    <tr style=\"text-align: right;\">\n",
       "      <th></th>\n",
       "      <th>Unnamed: 0</th>\n",
       "      <th>Name</th>\n",
       "      <th>Location</th>\n",
       "      <th>Year</th>\n",
       "      <th>Kilometers_Driven</th>\n",
       "      <th>Fuel_Type</th>\n",
       "      <th>Transmission</th>\n",
       "      <th>Owner_Type</th>\n",
       "      <th>Mileage</th>\n",
       "      <th>Engine</th>\n",
       "      <th>Power</th>\n",
       "      <th>Seats</th>\n",
       "      <th>New_Price</th>\n",
       "      <th>Price</th>\n",
       "    </tr>\n",
       "  </thead>\n",
       "  <tbody>\n",
       "    <tr>\n",
       "      <th>0</th>\n",
       "      <td>0</td>\n",
       "      <td>Maruti Wagon R LXI CNG</td>\n",
       "      <td>Mumbai</td>\n",
       "      <td>2010</td>\n",
       "      <td>72000</td>\n",
       "      <td>CNG</td>\n",
       "      <td>Manual</td>\n",
       "      <td>First</td>\n",
       "      <td>26.6 km/kg</td>\n",
       "      <td>998 CC</td>\n",
       "      <td>58.16 bhp</td>\n",
       "      <td>5.0</td>\n",
       "      <td>NaN</td>\n",
       "      <td>1.75</td>\n",
       "    </tr>\n",
       "    <tr>\n",
       "      <th>1</th>\n",
       "      <td>1</td>\n",
       "      <td>Hyundai Creta 1.6 CRDi SX Option</td>\n",
       "      <td>Pune</td>\n",
       "      <td>2015</td>\n",
       "      <td>41000</td>\n",
       "      <td>Diesel</td>\n",
       "      <td>Manual</td>\n",
       "      <td>First</td>\n",
       "      <td>19.67 kmpl</td>\n",
       "      <td>1582 CC</td>\n",
       "      <td>126.2 bhp</td>\n",
       "      <td>5.0</td>\n",
       "      <td>NaN</td>\n",
       "      <td>12.50</td>\n",
       "    </tr>\n",
       "    <tr>\n",
       "      <th>2</th>\n",
       "      <td>2</td>\n",
       "      <td>Honda Jazz V</td>\n",
       "      <td>Chennai</td>\n",
       "      <td>2011</td>\n",
       "      <td>46000</td>\n",
       "      <td>Petrol</td>\n",
       "      <td>Manual</td>\n",
       "      <td>First</td>\n",
       "      <td>18.2 kmpl</td>\n",
       "      <td>1199 CC</td>\n",
       "      <td>88.7 bhp</td>\n",
       "      <td>5.0</td>\n",
       "      <td>8.61 Lakh</td>\n",
       "      <td>4.50</td>\n",
       "    </tr>\n",
       "    <tr>\n",
       "      <th>3</th>\n",
       "      <td>3</td>\n",
       "      <td>Maruti Ertiga VDI</td>\n",
       "      <td>Chennai</td>\n",
       "      <td>2012</td>\n",
       "      <td>87000</td>\n",
       "      <td>Diesel</td>\n",
       "      <td>Manual</td>\n",
       "      <td>First</td>\n",
       "      <td>20.77 kmpl</td>\n",
       "      <td>1248 CC</td>\n",
       "      <td>88.76 bhp</td>\n",
       "      <td>7.0</td>\n",
       "      <td>NaN</td>\n",
       "      <td>6.00</td>\n",
       "    </tr>\n",
       "    <tr>\n",
       "      <th>4</th>\n",
       "      <td>4</td>\n",
       "      <td>Audi A4 New 2.0 TDI Multitronic</td>\n",
       "      <td>Coimbatore</td>\n",
       "      <td>2013</td>\n",
       "      <td>40670</td>\n",
       "      <td>Diesel</td>\n",
       "      <td>Automatic</td>\n",
       "      <td>Second</td>\n",
       "      <td>15.2 kmpl</td>\n",
       "      <td>1968 CC</td>\n",
       "      <td>140.8 bhp</td>\n",
       "      <td>5.0</td>\n",
       "      <td>NaN</td>\n",
       "      <td>17.74</td>\n",
       "    </tr>\n",
       "  </tbody>\n",
       "</table>\n",
       "</div>"
      ],
      "text/plain": [
       "   Unnamed: 0                              Name    Location  Year  \\\n",
       "0           0            Maruti Wagon R LXI CNG      Mumbai  2010   \n",
       "1           1  Hyundai Creta 1.6 CRDi SX Option        Pune  2015   \n",
       "2           2                      Honda Jazz V     Chennai  2011   \n",
       "3           3                 Maruti Ertiga VDI     Chennai  2012   \n",
       "4           4   Audi A4 New 2.0 TDI Multitronic  Coimbatore  2013   \n",
       "\n",
       "   Kilometers_Driven Fuel_Type Transmission Owner_Type     Mileage   Engine  \\\n",
       "0              72000       CNG       Manual      First  26.6 km/kg   998 CC   \n",
       "1              41000    Diesel       Manual      First  19.67 kmpl  1582 CC   \n",
       "2              46000    Petrol       Manual      First   18.2 kmpl  1199 CC   \n",
       "3              87000    Diesel       Manual      First  20.77 kmpl  1248 CC   \n",
       "4              40670    Diesel    Automatic     Second   15.2 kmpl  1968 CC   \n",
       "\n",
       "       Power  Seats  New_Price  Price  \n",
       "0  58.16 bhp    5.0        NaN   1.75  \n",
       "1  126.2 bhp    5.0        NaN  12.50  \n",
       "2   88.7 bhp    5.0  8.61 Lakh   4.50  \n",
       "3  88.76 bhp    7.0        NaN   6.00  \n",
       "4  140.8 bhp    5.0        NaN  17.74  "
      ]
     },
     "execution_count": 121,
     "metadata": {},
     "output_type": "execute_result"
    }
   ],
   "source": [
    "train_data.head()"
   ]
  },
  {
   "cell_type": "code",
   "execution_count": 122,
   "metadata": {},
   "outputs": [],
   "source": [
    "# train_data.tail()"
   ]
  },
  {
   "cell_type": "code",
   "execution_count": 123,
   "metadata": {},
   "outputs": [],
   "source": [
    "# train_data = train_data.iloc[:,1:]\n",
    "# train_data.head()"
   ]
  },
  {
   "cell_type": "code",
   "execution_count": 124,
   "metadata": {},
   "outputs": [],
   "source": [
    "# train_data.describe()"
   ]
  },
  {
   "cell_type": "code",
   "execution_count": 125,
   "metadata": {},
   "outputs": [
    {
     "data": {
      "text/plain": [
       "(6019, 14)"
      ]
     },
     "execution_count": 125,
     "metadata": {},
     "output_type": "execute_result"
    }
   ],
   "source": [
    "train_data.shape"
   ]
  },
  {
   "cell_type": "code",
   "execution_count": 126,
   "metadata": {},
   "outputs": [],
   "source": [
    "# train_data['Kilometers_Driven'].value_counts()"
   ]
  },
  {
   "cell_type": "code",
   "execution_count": 127,
   "metadata": {},
   "outputs": [],
   "source": [
    "# # Looking ate the unique values of Categorical Features\n",
    "# print(train_data['Location'].unique())\n",
    "# print(train_data['Fuel_Type'].unique())\n",
    "# print(train_data['Transmission'].unique())\n",
    "# print(train_data['Owner_Type'].unique())\n",
    "\n",
    "# #Rest Feature are worked for Feature Engineering"
   ]
  },
  {
   "cell_type": "code",
   "execution_count": 128,
   "metadata": {},
   "outputs": [],
   "source": [
    "# train_data.isnull().sum()"
   ]
  },
  {
   "cell_type": "markdown",
   "metadata": {},
   "source": [
    "Let's Drop sum Rows which contains NULL values.\n",
    "\n",
    "I ignored New_Price as there are many cell which contains NULL value in this column."
   ]
  },
  {
   "cell_type": "code",
   "execution_count": 129,
   "metadata": {},
   "outputs": [
    {
     "name": "stdout",
     "output_type": "stream",
     "text": [
      "Shape of train data Before dropping any Row:  (6019, 14)\n",
      "Shape of train data After dropping Rows with NULL values in Mileage:  (6017, 14)\n",
      "Shape of train data After dropping Rows with NULL values in Engine :  (5981, 14)\n",
      "Shape of train data After dropping Rows with NULL values in Power  :  (5981, 14)\n",
      "Shape of train data After dropping Rows with NULL values in Seats  :  (5975, 14)\n"
     ]
    }
   ],
   "source": [
    "print(\"Shape of train data Before dropping any Row: \",train_data.shape)\n",
    "train_data = train_data[train_data['Mileage'].notna()]\n",
    "print(\"Shape of train data After dropping Rows with NULL values in Mileage: \",train_data.shape)\n",
    "train_data = train_data[train_data['Engine'].notna()]\n",
    "print(\"Shape of train data After dropping Rows with NULL values in Engine : \",train_data.shape)\n",
    "train_data = train_data[train_data['Power'].notna()]\n",
    "print(\"Shape of train data After dropping Rows with NULL values in Power  : \",train_data.shape)\n",
    "train_data = train_data[train_data['Seats'].notna()]\n",
    "print(\"Shape of train data After dropping Rows with NULL values in Seats  : \",train_data.shape)"
   ]
  },
  {
   "cell_type": "markdown",
   "metadata": {},
   "source": [
    "So, in total I have 5975 Rows now to work forward. I droped 44 rows."
   ]
  },
  {
   "cell_type": "code",
   "execution_count": 130,
   "metadata": {},
   "outputs": [],
   "source": [
    "train_data = train_data.reset_index(drop=True)"
   ]
  },
  {
   "cell_type": "markdown",
   "metadata": {},
   "source": [
    "Well after using *.notna()* we have many absent indexes (Eg: If row no 47 was droped then after 46 we have 48 index), so I reset the index and droping the present index."
   ]
  },
  {
   "cell_type": "markdown",
   "metadata": {},
   "source": [
    "# Feautre Engineering 🛠\n",
    "There are many different data which could be extarcted from present. And, that's where Feature Engineering comes."
   ]
  },
  {
   "cell_type": "code",
   "execution_count": 131,
   "metadata": {},
   "outputs": [
    {
     "data": {
      "text/plain": [
       "'58.16'"
      ]
     },
     "execution_count": 131,
     "metadata": {},
     "output_type": "execute_result"
    }
   ],
   "source": [
    "i=0\n",
    "train_data['Power'][i].split()[0]"
   ]
  },
  {
   "cell_type": "code",
   "execution_count": 132,
   "metadata": {},
   "outputs": [],
   "source": [
    "for i in range(train_data.shape[0]):\n",
    "    train_data.at[i, 'Company'] = train_data['Name'][i].split()[0]\n",
    "    train_data.at[i, 'Mileage(km/kg)'] = train_data['Mileage'][i].split()[0]\n",
    "    train_data.at[i, 'Engine(CC)'] = train_data['Engine'][i].split()[0]\n",
    "    train_data.at[i, 'Power(bhp)'] = train_data['Power'][i].split()[0]"
   ]
  },
  {
   "cell_type": "code",
   "execution_count": 133,
   "metadata": {},
   "outputs": [],
   "source": [
    "train_data['Mileage(km/kg)'] = train_data['Mileage(km/kg)'].astype(float)\n",
    "train_data['Engine(CC)'] = train_data['Engine(CC)'].astype(float)"
   ]
  },
  {
   "cell_type": "markdown",
   "metadata": {},
   "source": [
    "At this point when I tried to change **Power(bhp)** to float an error occured (Can't convert str to float : null).\n",
    "So, I started investigating. And found some cell where having values: 'null bhp'"
   ]
  },
  {
   "cell_type": "code",
   "execution_count": 134,
   "metadata": {},
   "outputs": [
    {
     "data": {
      "text/plain": [
       "'null bhp'"
      ]
     },
     "execution_count": 134,
     "metadata": {},
     "output_type": "execute_result"
    }
   ],
   "source": [
    "train_data['Power'][76]"
   ]
  },
  {
   "cell_type": "markdown",
   "metadata": {},
   "source": [
    "Then I found the indexes of these values and removed them."
   ]
  },
  {
   "cell_type": "code",
   "execution_count": 135,
   "metadata": {},
   "outputs": [
    {
     "name": "stdout",
     "output_type": "stream",
     "text": [
      "Y\n",
      "103\n",
      "[76, 79, 89, 120, 143, 225, 242, 259, 304, 305, 383, 421, 425, 440, 469, 572, 628, 644, 645, 735, 744, 824, 910, 921, 929, 1063, 1138, 1148, 1266, 1313, 1338, 1380, 1411, 1546, 1569, 1640, 1663, 1848, 1989, 2043, 2118, 2152, 2250, 2254, 2292, 2328, 2377, 2425, 2434, 2481, 2485, 2511, 2561, 2579, 2616, 2621, 2868, 3010, 3038, 3081, 3166, 3224, 3266, 3414, 3491, 3506, 3562, 3601, 3611, 3618, 3642, 3706, 3868, 3900, 3969, 4046, 4049, 4318, 4321, 4593, 4672, 4676, 4706, 4792, 4848, 4862, 4914, 5024, 5078, 5186, 5383, 5395, 5415, 5486, 5490, 5604, 5712, 5716, 5818, 5830, 5881, 5899, 5941]\n"
     ]
    }
   ],
   "source": [
    "x = 'n'\n",
    "count = 0\n",
    "position = []\n",
    "for i in range(train_data.shape[0]):\n",
    "    if train_data['Power(bhp)'][i]=='null':\n",
    "        x = 'Y'\n",
    "        count = count + 1\n",
    "        position.append(i)\n",
    "print(x)\n",
    "print(count)\n",
    "print(position)"
   ]
  },
  {
   "cell_type": "code",
   "execution_count": 136,
   "metadata": {},
   "outputs": [],
   "source": [
    "train_data = train_data.drop(train_data.index[position])\n",
    "train_data = train_data.reset_index(drop=True)"
   ]
  },
  {
   "cell_type": "markdown",
   "metadata": {},
   "source": [
    "Now the new shape of training data is:"
   ]
  },
  {
   "cell_type": "code",
   "execution_count": 137,
   "metadata": {},
   "outputs": [
    {
     "data": {
      "text/plain": [
       "(5872, 18)"
      ]
     },
     "execution_count": 137,
     "metadata": {},
     "output_type": "execute_result"
    }
   ],
   "source": [
    "train_data.shape"
   ]
  },
  {
   "cell_type": "code",
   "execution_count": 138,
   "metadata": {},
   "outputs": [],
   "source": [
    "train_data['Power(bhp)'] = train_data['Power(bhp)'].astype(float)"
   ]
  },
  {
   "cell_type": "code",
   "execution_count": 139,
   "metadata": {},
   "outputs": [
    {
     "data": {
      "text/html": [
       "<div>\n",
       "<style scoped>\n",
       "    .dataframe tbody tr th:only-of-type {\n",
       "        vertical-align: middle;\n",
       "    }\n",
       "\n",
       "    .dataframe tbody tr th {\n",
       "        vertical-align: top;\n",
       "    }\n",
       "\n",
       "    .dataframe thead th {\n",
       "        text-align: right;\n",
       "    }\n",
       "</style>\n",
       "<table border=\"1\" class=\"dataframe\">\n",
       "  <thead>\n",
       "    <tr style=\"text-align: right;\">\n",
       "      <th></th>\n",
       "      <th>Unnamed: 0</th>\n",
       "      <th>Name</th>\n",
       "      <th>Location</th>\n",
       "      <th>Year</th>\n",
       "      <th>Kilometers_Driven</th>\n",
       "      <th>Fuel_Type</th>\n",
       "      <th>Transmission</th>\n",
       "      <th>Owner_Type</th>\n",
       "      <th>Mileage</th>\n",
       "      <th>Engine</th>\n",
       "      <th>Power</th>\n",
       "      <th>Seats</th>\n",
       "      <th>New_Price</th>\n",
       "      <th>Price</th>\n",
       "      <th>Company</th>\n",
       "      <th>Mileage(km/kg)</th>\n",
       "      <th>Engine(CC)</th>\n",
       "      <th>Power(bhp)</th>\n",
       "    </tr>\n",
       "  </thead>\n",
       "  <tbody>\n",
       "    <tr>\n",
       "      <th>0</th>\n",
       "      <td>0</td>\n",
       "      <td>Maruti Wagon R LXI CNG</td>\n",
       "      <td>Mumbai</td>\n",
       "      <td>2010</td>\n",
       "      <td>72000</td>\n",
       "      <td>CNG</td>\n",
       "      <td>Manual</td>\n",
       "      <td>First</td>\n",
       "      <td>26.6 km/kg</td>\n",
       "      <td>998 CC</td>\n",
       "      <td>58.16 bhp</td>\n",
       "      <td>5.0</td>\n",
       "      <td>NaN</td>\n",
       "      <td>1.75</td>\n",
       "      <td>Maruti</td>\n",
       "      <td>26.60</td>\n",
       "      <td>998.0</td>\n",
       "      <td>58.16</td>\n",
       "    </tr>\n",
       "    <tr>\n",
       "      <th>1</th>\n",
       "      <td>1</td>\n",
       "      <td>Hyundai Creta 1.6 CRDi SX Option</td>\n",
       "      <td>Pune</td>\n",
       "      <td>2015</td>\n",
       "      <td>41000</td>\n",
       "      <td>Diesel</td>\n",
       "      <td>Manual</td>\n",
       "      <td>First</td>\n",
       "      <td>19.67 kmpl</td>\n",
       "      <td>1582 CC</td>\n",
       "      <td>126.2 bhp</td>\n",
       "      <td>5.0</td>\n",
       "      <td>NaN</td>\n",
       "      <td>12.50</td>\n",
       "      <td>Hyundai</td>\n",
       "      <td>19.67</td>\n",
       "      <td>1582.0</td>\n",
       "      <td>126.20</td>\n",
       "    </tr>\n",
       "    <tr>\n",
       "      <th>2</th>\n",
       "      <td>2</td>\n",
       "      <td>Honda Jazz V</td>\n",
       "      <td>Chennai</td>\n",
       "      <td>2011</td>\n",
       "      <td>46000</td>\n",
       "      <td>Petrol</td>\n",
       "      <td>Manual</td>\n",
       "      <td>First</td>\n",
       "      <td>18.2 kmpl</td>\n",
       "      <td>1199 CC</td>\n",
       "      <td>88.7 bhp</td>\n",
       "      <td>5.0</td>\n",
       "      <td>8.61 Lakh</td>\n",
       "      <td>4.50</td>\n",
       "      <td>Honda</td>\n",
       "      <td>18.20</td>\n",
       "      <td>1199.0</td>\n",
       "      <td>88.70</td>\n",
       "    </tr>\n",
       "    <tr>\n",
       "      <th>3</th>\n",
       "      <td>3</td>\n",
       "      <td>Maruti Ertiga VDI</td>\n",
       "      <td>Chennai</td>\n",
       "      <td>2012</td>\n",
       "      <td>87000</td>\n",
       "      <td>Diesel</td>\n",
       "      <td>Manual</td>\n",
       "      <td>First</td>\n",
       "      <td>20.77 kmpl</td>\n",
       "      <td>1248 CC</td>\n",
       "      <td>88.76 bhp</td>\n",
       "      <td>7.0</td>\n",
       "      <td>NaN</td>\n",
       "      <td>6.00</td>\n",
       "      <td>Maruti</td>\n",
       "      <td>20.77</td>\n",
       "      <td>1248.0</td>\n",
       "      <td>88.76</td>\n",
       "    </tr>\n",
       "    <tr>\n",
       "      <th>4</th>\n",
       "      <td>4</td>\n",
       "      <td>Audi A4 New 2.0 TDI Multitronic</td>\n",
       "      <td>Coimbatore</td>\n",
       "      <td>2013</td>\n",
       "      <td>40670</td>\n",
       "      <td>Diesel</td>\n",
       "      <td>Automatic</td>\n",
       "      <td>Second</td>\n",
       "      <td>15.2 kmpl</td>\n",
       "      <td>1968 CC</td>\n",
       "      <td>140.8 bhp</td>\n",
       "      <td>5.0</td>\n",
       "      <td>NaN</td>\n",
       "      <td>17.74</td>\n",
       "      <td>Audi</td>\n",
       "      <td>15.20</td>\n",
       "      <td>1968.0</td>\n",
       "      <td>140.80</td>\n",
       "    </tr>\n",
       "  </tbody>\n",
       "</table>\n",
       "</div>"
      ],
      "text/plain": [
       "   Unnamed: 0                              Name    Location  Year  \\\n",
       "0           0            Maruti Wagon R LXI CNG      Mumbai  2010   \n",
       "1           1  Hyundai Creta 1.6 CRDi SX Option        Pune  2015   \n",
       "2           2                      Honda Jazz V     Chennai  2011   \n",
       "3           3                 Maruti Ertiga VDI     Chennai  2012   \n",
       "4           4   Audi A4 New 2.0 TDI Multitronic  Coimbatore  2013   \n",
       "\n",
       "   Kilometers_Driven Fuel_Type Transmission Owner_Type     Mileage   Engine  \\\n",
       "0              72000       CNG       Manual      First  26.6 km/kg   998 CC   \n",
       "1              41000    Diesel       Manual      First  19.67 kmpl  1582 CC   \n",
       "2              46000    Petrol       Manual      First   18.2 kmpl  1199 CC   \n",
       "3              87000    Diesel       Manual      First  20.77 kmpl  1248 CC   \n",
       "4              40670    Diesel    Automatic     Second   15.2 kmpl  1968 CC   \n",
       "\n",
       "       Power  Seats  New_Price  Price  Company  Mileage(km/kg)  Engine(CC)  \\\n",
       "0  58.16 bhp    5.0        NaN   1.75   Maruti           26.60       998.0   \n",
       "1  126.2 bhp    5.0        NaN  12.50  Hyundai           19.67      1582.0   \n",
       "2   88.7 bhp    5.0  8.61 Lakh   4.50    Honda           18.20      1199.0   \n",
       "3  88.76 bhp    7.0        NaN   6.00   Maruti           20.77      1248.0   \n",
       "4  140.8 bhp    5.0        NaN  17.74     Audi           15.20      1968.0   \n",
       "\n",
       "   Power(bhp)  \n",
       "0       58.16  \n",
       "1      126.20  \n",
       "2       88.70  \n",
       "3       88.76  \n",
       "4      140.80  "
      ]
     },
     "execution_count": 139,
     "metadata": {},
     "output_type": "execute_result"
    }
   ],
   "source": [
    "train_data.head()"
   ]
  },
  {
   "cell_type": "code",
   "execution_count": 140,
   "metadata": {},
   "outputs": [],
   "source": [
    "# train_data.New_Price"
   ]
  },
  {
   "cell_type": "code",
   "execution_count": 141,
   "metadata": {},
   "outputs": [],
   "source": [
    "for i in range(train_data.shape[0]):\n",
    "    if pd.isnull(train_data.loc[i,'New_Price']) == False:\n",
    "        train_data.at[i,'New_car_Price'] = train_data['New_Price'][i].split()[0]"
   ]
  },
  {
   "cell_type": "code",
   "execution_count": 142,
   "metadata": {},
   "outputs": [],
   "source": [
    "train_data['New_car_Price'] = train_data['New_car_Price'].astype(float)"
   ]
  },
  {
   "cell_type": "markdown",
   "metadata": {},
   "source": [
    "Now,\n",
    "\n",
    "Let's delete all useless featiures."
   ]
  },
  {
   "cell_type": "code",
   "execution_count": 143,
   "metadata": {},
   "outputs": [],
   "source": [
    "train_data.drop([\"Name\"],axis=1,inplace=True)\n",
    "train_data.drop([\"Mileage\"],axis=1,inplace=True)\n",
    "train_data.drop([\"Engine\"],axis=1,inplace=True)\n",
    "train_data.drop([\"Power\"],axis=1,inplace=True)\n",
    "train_data.drop([\"New_Price\"],axis=1,inplace=True)"
   ]
  },
  {
   "cell_type": "markdown",
   "metadata": {},
   "source": [
    "# Data Visualization\n",
    "### Let's Plot some\n",
    "Data visualization is the best way to find out how a data looks like"
   ]
  },
  {
   "cell_type": "code",
   "execution_count": 144,
   "metadata": {},
   "outputs": [
    {
     "name": "stdout",
     "output_type": "stream",
     "text": [
      "<class 'pandas.core.frame.DataFrame'>\n",
      "RangeIndex: 5872 entries, 0 to 5871\n",
      "Data columns (total 14 columns):\n",
      " #   Column             Non-Null Count  Dtype  \n",
      "---  ------             --------------  -----  \n",
      " 0   Unnamed: 0         5872 non-null   int64  \n",
      " 1   Location           5872 non-null   object \n",
      " 2   Year               5872 non-null   int64  \n",
      " 3   Kilometers_Driven  5872 non-null   int64  \n",
      " 4   Fuel_Type          5872 non-null   object \n",
      " 5   Transmission       5872 non-null   object \n",
      " 6   Owner_Type         5872 non-null   object \n",
      " 7   Seats              5872 non-null   float64\n",
      " 8   Price              5872 non-null   float64\n",
      " 9   Company            5872 non-null   object \n",
      " 10  Mileage(km/kg)     5872 non-null   float64\n",
      " 11  Engine(CC)         5872 non-null   float64\n",
      " 12  Power(bhp)         5872 non-null   float64\n",
      " 13  New_car_Price      823 non-null    float64\n",
      "dtypes: float64(6), int64(3), object(5)\n",
      "memory usage: 642.4+ KB\n"
     ]
    }
   ],
   "source": [
    "train_data.info()"
   ]
  },
  {
   "cell_type": "code",
   "execution_count": 145,
   "metadata": {},
   "outputs": [
    {
     "data": {
      "text/plain": [
       "count    5872.000000\n",
       "mean        9.603919\n",
       "std        11.249453\n",
       "min         0.440000\n",
       "25%         3.517500\n",
       "50%         5.750000\n",
       "75%        10.000000\n",
       "max       160.000000\n",
       "Name: Price, dtype: float64"
      ]
     },
     "execution_count": 145,
     "metadata": {},
     "output_type": "execute_result"
    }
   ],
   "source": [
    "train_data['Price'].describe()"
   ]
  },
  {
   "cell_type": "markdown",
   "metadata": {},
   "source": [
    "### Price"
   ]
  },
  {
   "cell_type": "markdown",
   "metadata": {},
   "source": [
    "First let's have a look over our target column"
   ]
  },
  {
   "cell_type": "code",
   "execution_count": 146,
   "metadata": {},
   "outputs": [
    {
     "data": {
      "text/plain": [
       "(0.0, 160.0)"
      ]
     },
     "execution_count": 146,
     "metadata": {},
     "output_type": "execute_result"
    },
    {
     "data": {
      "image/png": "[encoded data removed]",
      "text/plain": [
       "<Figure size 1080x576 with 1 Axes>"
      ]
     },
     "metadata": {},
     "output_type": "display_data"
    }
   ],
   "source": [
    "f, ax = plt.subplots(figsize=(15,8))\n",
    "sns.distplot(train_data['Price'])\n",
    "plt.xlim([0,160])"
   ]
  },
  {
   "cell_type": "markdown",
   "metadata": {},
   "source": [
    "### Fuel Type"
   ]
  },
  {
   "cell_type": "code",
   "execution_count": 147,
   "metadata": {},
   "outputs": [
    {
     "data": {
      "text/plain": [
       "count       5872\n",
       "unique         4\n",
       "top       Diesel\n",
       "freq        3152\n",
       "Name: Fuel_Type, dtype: object"
      ]
     },
     "execution_count": 147,
     "metadata": {},
     "output_type": "execute_result"
    }
   ],
   "source": [
    "train_data['Fuel_Type'].describe()"
   ]
  },
  {
   "cell_type": "code",
   "execution_count": 148,
   "metadata": {},
   "outputs": [
    {
     "data": {
      "image/png": "[encoded data removed]",
      "text/plain": [
       "<Figure size 864x576 with 1 Axes>"
      ]
     },
     "metadata": {},
     "output_type": "display_data"
    }
   ],
   "source": [
    "var = 'Fuel_Type'\n",
    "data = pd.concat([train_data['Price'], train_data[var]], axis=1)\n",
    "f, ax = plt.subplots(figsize=(12, 8))\n",
    "fig = sns.boxplot(x=var, y=\"Price\", data=data)\n",
    "fig.axis(ymin=0, ymax=165);"
   ]
  },
  {
   "cell_type": "markdown",
   "metadata": {},
   "source": [
    "As, we thought diseal car would cost followed Petrol."
   ]
  },
  {
   "cell_type": "code",
   "execution_count": null,
   "metadata": {},
   "outputs": [],
   "source": [
    "var = 'Fuel_Type'\n",
    "fig, ax = plt.subplots()\n",
    "fig.set_size_inches(11.7, 8.27)\n",
    "sns.swarmplot(x = var, y ='Price', data = train_data)"
   ]
  },
  {
   "cell_type": "markdown",
   "metadata": {},
   "source": [
    "### Year"
   ]
  },
  {
   "cell_type": "code",
   "execution_count": null,
   "metadata": {},
   "outputs": [],
   "source": [
    "var = 'Year'\n",
    "data = pd.concat([train_data['Price'], train_data[var]], axis=1)\n",
    "f, ax = plt.subplots(figsize=(20, 10))\n",
    "fig = sns.boxplot(x=var, y=\"Price\", data=data)\n",
    "fig.axis(ymin=0, ymax=165);\n",
    "plt.xticks(rotation=90);"
   ]
  },
  {
   "cell_type": "markdown",
   "metadata": {},
   "source": [
    "Clearly, it's a strong tendency.\n",
    "\n",
    "Price of Newest is high compared to old models."
   ]
  },
  {
   "cell_type": "markdown",
   "metadata": {},
   "source": [
    "### Owner Type"
   ]
  },
  {
   "cell_type": "code",
   "execution_count": null,
   "metadata": {},
   "outputs": [],
   "source": [
    "var = 'Owner_Type'\n",
    "fig, ax = plt.subplots()\n",
    "fig.set_size_inches(11.7, 8.27)\n",
    "sns.stripplot(x = var, y ='Price', data = train_data) "
   ]
  },
  {
   "cell_type": "markdown",
   "metadata": {},
   "source": [
    "### Company"
   ]
  },
  {
   "cell_type": "code",
   "execution_count": null,
   "metadata": {},
   "outputs": [],
   "source": [
    "var = \"Company\"\n",
    "plt.figure(figsize=(20, 10))\n",
    "sns.catplot(x=var, kind=\"count\", palette=\"ch:.25\", height=8, aspect=2, data=train_data);\n",
    "plt.xticks(rotation=90);"
   ]
  },
  {
   "cell_type": "markdown",
   "metadata": {},
   "source": [
    "Cleary **Maruti** is most comman brand followed by **Hyundai**"
   ]
  },
  {
   "cell_type": "markdown",
   "metadata": {},
   "source": [
    "# Working with Categorical Data"
   ]
  },
  {
   "cell_type": "markdown",
   "metadata": {},
   "source": [
    "As for now we have left with only 5 categorical features:\n",
    "1. Location\n",
    "2. Fuel_Type\n",
    "3. Transmission\n",
    "4. Owner_Type\n",
    "5. Company"
   ]
  },
  {
   "cell_type": "markdown",
   "metadata": {},
   "source": [
    "For hadeling categorical data. We modtly use these 2 path:\n",
    "1. OneHotEncoder\n",
    "2. LabelEncoder\n",
    "\n",
    "Where OneHotEncoder is used where data are not in any order and LabelEncoder when data is in order.\n",
    "\n",
    "So, for each Features we will use plots to find out what to be used there."
   ]
  },
  {
   "cell_type": "markdown",
   "metadata": {},
   "source": [
    "### Working for Location"
   ]
  },
  {
   "cell_type": "code",
   "execution_count": 150,
   "metadata": {},
   "outputs": [
    {
     "data": {
      "text/plain": [
       "Mumbai        775\n",
       "Hyderabad     718\n",
       "Kochi         645\n",
       "Coimbatore    629\n",
       "Pune          594\n",
       "Delhi         545\n",
       "Kolkata       521\n",
       "Chennai       476\n",
       "Jaipur        402\n",
       "Bangalore     347\n",
       "Ahmedabad     220\n",
       "Name: Location, dtype: int64"
      ]
     },
     "execution_count": 150,
     "metadata": {},
     "output_type": "execute_result"
    }
   ],
   "source": [
    "var = 'Location'\n",
    "train_data[var].value_counts()"
   ]
  },
  {
   "cell_type": "markdown",
   "metadata": {},
   "source": [
    "From above values, we could judge that Mubmai has most number of cars to be sold followed by others."
   ]
  },
  {
   "cell_type": "code",
   "execution_count": null,
   "metadata": {},
   "outputs": [],
   "source": [
    "# Plot Location vs Price\n",
    "sns.catplot(y='Price',x=var,data= train_data.sort_values('Price',ascending=False),kind=\"boxen\",height=6, aspect=3)\n",
    "plt.show"
   ]
  },
  {
   "cell_type": "markdown",
   "metadata": {},
   "source": [
    "We will be using One-hot-encoding here"
   ]
  },
  {
   "cell_type": "code",
   "execution_count": 151,
   "metadata": {},
   "outputs": [
    {
     "data": {
      "text/html": [
       "<div>\n",
       "<style scoped>\n",
       "    .dataframe tbody tr th:only-of-type {\n",
       "        vertical-align: middle;\n",
       "    }\n",
       "\n",
       "    .dataframe tbody tr th {\n",
       "        vertical-align: top;\n",
       "    }\n",
       "\n",
       "    .dataframe thead th {\n",
       "        text-align: right;\n",
       "    }\n",
       "</style>\n",
       "<table border=\"1\" class=\"dataframe\">\n",
       "  <thead>\n",
       "    <tr style=\"text-align: right;\">\n",
       "      <th></th>\n",
       "      <th>Location_Bangalore</th>\n",
       "      <th>Location_Chennai</th>\n",
       "      <th>Location_Coimbatore</th>\n",
       "      <th>Location_Delhi</th>\n",
       "      <th>Location_Hyderabad</th>\n",
       "      <th>Location_Jaipur</th>\n",
       "      <th>Location_Kochi</th>\n",
       "      <th>Location_Kolkata</th>\n",
       "      <th>Location_Mumbai</th>\n",
       "      <th>Location_Pune</th>\n",
       "    </tr>\n",
       "  </thead>\n",
       "  <tbody>\n",
       "    <tr>\n",
       "      <th>0</th>\n",
       "      <td>0</td>\n",
       "      <td>0</td>\n",
       "      <td>0</td>\n",
       "      <td>0</td>\n",
       "      <td>0</td>\n",
       "      <td>0</td>\n",
       "      <td>0</td>\n",
       "      <td>0</td>\n",
       "      <td>1</td>\n",
       "      <td>0</td>\n",
       "    </tr>\n",
       "    <tr>\n",
       "      <th>1</th>\n",
       "      <td>0</td>\n",
       "      <td>0</td>\n",
       "      <td>0</td>\n",
       "      <td>0</td>\n",
       "      <td>0</td>\n",
       "      <td>0</td>\n",
       "      <td>0</td>\n",
       "      <td>0</td>\n",
       "      <td>0</td>\n",
       "      <td>1</td>\n",
       "    </tr>\n",
       "    <tr>\n",
       "      <th>2</th>\n",
       "      <td>0</td>\n",
       "      <td>1</td>\n",
       "      <td>0</td>\n",
       "      <td>0</td>\n",
       "      <td>0</td>\n",
       "      <td>0</td>\n",
       "      <td>0</td>\n",
       "      <td>0</td>\n",
       "      <td>0</td>\n",
       "      <td>0</td>\n",
       "    </tr>\n",
       "    <tr>\n",
       "      <th>3</th>\n",
       "      <td>0</td>\n",
       "      <td>1</td>\n",
       "      <td>0</td>\n",
       "      <td>0</td>\n",
       "      <td>0</td>\n",
       "      <td>0</td>\n",
       "      <td>0</td>\n",
       "      <td>0</td>\n",
       "      <td>0</td>\n",
       "      <td>0</td>\n",
       "    </tr>\n",
       "    <tr>\n",
       "      <th>4</th>\n",
       "      <td>0</td>\n",
       "      <td>0</td>\n",
       "      <td>1</td>\n",
       "      <td>0</td>\n",
       "      <td>0</td>\n",
       "      <td>0</td>\n",
       "      <td>0</td>\n",
       "      <td>0</td>\n",
       "      <td>0</td>\n",
       "      <td>0</td>\n",
       "    </tr>\n",
       "  </tbody>\n",
       "</table>\n",
       "</div>"
      ],
      "text/plain": [
       "   Location_Bangalore  Location_Chennai  Location_Coimbatore  Location_Delhi  \\\n",
       "0                   0                 0                    0               0   \n",
       "1                   0                 0                    0               0   \n",
       "2                   0                 1                    0               0   \n",
       "3                   0                 1                    0               0   \n",
       "4                   0                 0                    1               0   \n",
       "\n",
       "   Location_Hyderabad  Location_Jaipur  Location_Kochi  Location_Kolkata  \\\n",
       "0                   0                0               0                 0   \n",
       "1                   0                0               0                 0   \n",
       "2                   0                0               0                 0   \n",
       "3                   0                0               0                 0   \n",
       "4                   0                0               0                 0   \n",
       "\n",
       "   Location_Mumbai  Location_Pune  \n",
       "0                1              0  \n",
       "1                0              1  \n",
       "2                0              0  \n",
       "3                0              0  \n",
       "4                0              0  "
      ]
     },
     "execution_count": 151,
     "metadata": {},
     "output_type": "execute_result"
    }
   ],
   "source": [
    "Location = train_data[[var]]\n",
    "Location = pd.get_dummies(Location,drop_first=True)\n",
    "Location.head()"
   ]
  },
  {
   "cell_type": "markdown",
   "metadata": {},
   "source": [
    "### Working for Fuel_Type"
   ]
  },
  {
   "cell_type": "code",
   "execution_count": 152,
   "metadata": {},
   "outputs": [
    {
     "data": {
      "text/plain": [
       "Diesel    3152\n",
       "Petrol    2655\n",
       "CNG         55\n",
       "LPG         10\n",
       "Name: Fuel_Type, dtype: int64"
      ]
     },
     "execution_count": 152,
     "metadata": {},
     "output_type": "execute_result"
    }
   ],
   "source": [
    "var = 'Fuel_Type'\n",
    "train_data[var].value_counts()"
   ]
  },
  {
   "cell_type": "code",
   "execution_count": 101,
   "metadata": {},
   "outputs": [
    {
     "data": {
      "text/plain": [
       "<function matplotlib.pyplot.show(*args, **kw)>"
      ]
     },
     "execution_count": 101,
     "metadata": {},
     "output_type": "execute_result"
    },
    {
     "data": {
      "image/png": "[encoded data removed]",
      "text/plain": [
       "<Figure size 1296x432 with 1 Axes>"
      ]
     },
     "metadata": {},
     "output_type": "display_data"
    }
   ],
   "source": [
    "# Plot Fuel_Type vs Price\n",
    "# Yes we did this earlier... but used here for the work required here\n",
    "sns.catplot(y='Price',x=var,data= train_data.sort_values('Price',ascending=False),kind=\"boxen\",height=6, aspect=3)\n",
    "plt.show"
   ]
  },
  {
   "cell_type": "markdown",
   "metadata": {},
   "source": [
    "Again we will be using One-hot-encoding"
   ]
  },
  {
   "cell_type": "code",
   "execution_count": 153,
   "metadata": {},
   "outputs": [
    {
     "data": {
      "text/html": [
       "<div>\n",
       "<style scoped>\n",
       "    .dataframe tbody tr th:only-of-type {\n",
       "        vertical-align: middle;\n",
       "    }\n",
       "\n",
       "    .dataframe tbody tr th {\n",
       "        vertical-align: top;\n",
       "    }\n",
       "\n",
       "    .dataframe thead th {\n",
       "        text-align: right;\n",
       "    }\n",
       "</style>\n",
       "<table border=\"1\" class=\"dataframe\">\n",
       "  <thead>\n",
       "    <tr style=\"text-align: right;\">\n",
       "      <th></th>\n",
       "      <th>Fuel_Type_Diesel</th>\n",
       "      <th>Fuel_Type_LPG</th>\n",
       "      <th>Fuel_Type_Petrol</th>\n",
       "    </tr>\n",
       "  </thead>\n",
       "  <tbody>\n",
       "    <tr>\n",
       "      <th>0</th>\n",
       "      <td>0</td>\n",
       "      <td>0</td>\n",
       "      <td>0</td>\n",
       "    </tr>\n",
       "    <tr>\n",
       "      <th>1</th>\n",
       "      <td>1</td>\n",
       "      <td>0</td>\n",
       "      <td>0</td>\n",
       "    </tr>\n",
       "    <tr>\n",
       "      <th>2</th>\n",
       "      <td>0</td>\n",
       "      <td>0</td>\n",
       "      <td>1</td>\n",
       "    </tr>\n",
       "    <tr>\n",
       "      <th>3</th>\n",
       "      <td>1</td>\n",
       "      <td>0</td>\n",
       "      <td>0</td>\n",
       "    </tr>\n",
       "    <tr>\n",
       "      <th>4</th>\n",
       "      <td>1</td>\n",
       "      <td>0</td>\n",
       "      <td>0</td>\n",
       "    </tr>\n",
       "  </tbody>\n",
       "</table>\n",
       "</div>"
      ],
      "text/plain": [
       "   Fuel_Type_Diesel  Fuel_Type_LPG  Fuel_Type_Petrol\n",
       "0                 0              0                 0\n",
       "1                 1              0                 0\n",
       "2                 0              0                 1\n",
       "3                 1              0                 0\n",
       "4                 1              0                 0"
      ]
     },
     "execution_count": 153,
     "metadata": {},
     "output_type": "execute_result"
    }
   ],
   "source": [
    "Fuel_t = train_data[[var]]\n",
    "Fuel_t = pd.get_dummies(Fuel_t,drop_first=True)\n",
    "Fuel_t.head()"
   ]
  },
  {
   "cell_type": "markdown",
   "metadata": {},
   "source": [
    "### Working with Transmission"
   ]
  },
  {
   "cell_type": "code",
   "execution_count": 154,
   "metadata": {},
   "outputs": [
    {
     "data": {
      "text/plain": [
       "Manual       4170\n",
       "Automatic    1702\n",
       "Name: Transmission, dtype: int64"
      ]
     },
     "execution_count": 154,
     "metadata": {},
     "output_type": "execute_result"
    }
   ],
   "source": [
    "var = 'Transmission'\n",
    "train_data[var].value_counts()"
   ]
  },
  {
   "cell_type": "code",
   "execution_count": 155,
   "metadata": {},
   "outputs": [
    {
     "data": {
      "text/plain": [
       "<function matplotlib.pyplot.show(*args, **kw)>"
      ]
     },
     "execution_count": 155,
     "metadata": {},
     "output_type": "execute_result"
    },
    {
     "data": {
      "image/png": "[encoded data removed]",
      "text/plain": [
       "<Figure size 1296x432 with 1 Axes>"
      ]
     },
     "metadata": {},
     "output_type": "display_data"
    }
   ],
   "source": [
    "# Plot Transmission vs Price\n",
    "# Yes we did this earlier... but used here for the work required here\n",
    "sns.catplot(y='Price',x=var,data= train_data.sort_values('Price',ascending=False),kind=\"boxen\",height=6, aspect=3)\n",
    "plt.show"
   ]
  },
  {
   "cell_type": "markdown",
   "metadata": {},
   "source": [
    "No, order so One-hot-encoding"
   ]
  },
  {
   "cell_type": "code",
   "execution_count": 156,
   "metadata": {},
   "outputs": [
    {
     "data": {
      "text/html": [
       "<div>\n",
       "<style scoped>\n",
       "    .dataframe tbody tr th:only-of-type {\n",
       "        vertical-align: middle;\n",
       "    }\n",
       "\n",
       "    .dataframe tbody tr th {\n",
       "        vertical-align: top;\n",
       "    }\n",
       "\n",
       "    .dataframe thead th {\n",
       "        text-align: right;\n",
       "    }\n",
       "</style>\n",
       "<table border=\"1\" class=\"dataframe\">\n",
       "  <thead>\n",
       "    <tr style=\"text-align: right;\">\n",
       "      <th></th>\n",
       "      <th>Transmission_Manual</th>\n",
       "    </tr>\n",
       "  </thead>\n",
       "  <tbody>\n",
       "    <tr>\n",
       "      <th>0</th>\n",
       "      <td>1</td>\n",
       "    </tr>\n",
       "    <tr>\n",
       "      <th>1</th>\n",
       "      <td>1</td>\n",
       "    </tr>\n",
       "    <tr>\n",
       "      <th>2</th>\n",
       "      <td>1</td>\n",
       "    </tr>\n",
       "    <tr>\n",
       "      <th>3</th>\n",
       "      <td>1</td>\n",
       "    </tr>\n",
       "    <tr>\n",
       "      <th>4</th>\n",
       "      <td>0</td>\n",
       "    </tr>\n",
       "  </tbody>\n",
       "</table>\n",
       "</div>"
      ],
      "text/plain": [
       "   Transmission_Manual\n",
       "0                    1\n",
       "1                    1\n",
       "2                    1\n",
       "3                    1\n",
       "4                    0"
      ]
     },
     "execution_count": 156,
     "metadata": {},
     "output_type": "execute_result"
    }
   ],
   "source": [
    "Transmission = train_data[[var]]\n",
    "Transmission = pd.get_dummies(Transmission,drop_first=True)\n",
    "Transmission.head()"
   ]
  },
  {
   "cell_type": "markdown",
   "metadata": {},
   "source": [
    "### Working with Owner_Type"
   ]
  },
  {
   "cell_type": "code",
   "execution_count": 157,
   "metadata": {},
   "outputs": [
    {
     "data": {
      "text/plain": [
       "First             4839\n",
       "Second             925\n",
       "Third              101\n",
       "Fourth & Above       7\n",
       "Name: Owner_Type, dtype: int64"
      ]
     },
     "execution_count": 157,
     "metadata": {},
     "output_type": "execute_result"
    }
   ],
   "source": [
    "var = 'Owner_Type'\n",
    "train_data[var].value_counts()"
   ]
  },
  {
   "cell_type": "markdown",
   "metadata": {},
   "source": [
    "As Owner_Type column has ordered data so we will be using **Label Encoding** \n",
    "**Finally**"
   ]
  },
  {
   "cell_type": "code",
   "execution_count": 158,
   "metadata": {},
   "outputs": [
    {
     "data": {
      "text/html": [
       "<div>\n",
       "<style scoped>\n",
       "    .dataframe tbody tr th:only-of-type {\n",
       "        vertical-align: middle;\n",
       "    }\n",
       "\n",
       "    .dataframe tbody tr th {\n",
       "        vertical-align: top;\n",
       "    }\n",
       "\n",
       "    .dataframe thead th {\n",
       "        text-align: right;\n",
       "    }\n",
       "</style>\n",
       "<table border=\"1\" class=\"dataframe\">\n",
       "  <thead>\n",
       "    <tr style=\"text-align: right;\">\n",
       "      <th></th>\n",
       "      <th>Unnamed: 0</th>\n",
       "      <th>Location</th>\n",
       "      <th>Year</th>\n",
       "      <th>Kilometers_Driven</th>\n",
       "      <th>Fuel_Type</th>\n",
       "      <th>Transmission</th>\n",
       "      <th>Owner_Type</th>\n",
       "      <th>Seats</th>\n",
       "      <th>Price</th>\n",
       "      <th>Company</th>\n",
       "      <th>Mileage(km/kg)</th>\n",
       "      <th>Engine(CC)</th>\n",
       "      <th>Power(bhp)</th>\n",
       "      <th>New_car_Price</th>\n",
       "    </tr>\n",
       "  </thead>\n",
       "  <tbody>\n",
       "    <tr>\n",
       "      <th>0</th>\n",
       "      <td>0</td>\n",
       "      <td>Mumbai</td>\n",
       "      <td>2010</td>\n",
       "      <td>72000</td>\n",
       "      <td>CNG</td>\n",
       "      <td>Manual</td>\n",
       "      <td>1</td>\n",
       "      <td>5.0</td>\n",
       "      <td>1.75</td>\n",
       "      <td>Maruti</td>\n",
       "      <td>26.60</td>\n",
       "      <td>998.0</td>\n",
       "      <td>58.16</td>\n",
       "      <td>NaN</td>\n",
       "    </tr>\n",
       "    <tr>\n",
       "      <th>1</th>\n",
       "      <td>1</td>\n",
       "      <td>Pune</td>\n",
       "      <td>2015</td>\n",
       "      <td>41000</td>\n",
       "      <td>Diesel</td>\n",
       "      <td>Manual</td>\n",
       "      <td>1</td>\n",
       "      <td>5.0</td>\n",
       "      <td>12.50</td>\n",
       "      <td>Hyundai</td>\n",
       "      <td>19.67</td>\n",
       "      <td>1582.0</td>\n",
       "      <td>126.20</td>\n",
       "      <td>NaN</td>\n",
       "    </tr>\n",
       "    <tr>\n",
       "      <th>2</th>\n",
       "      <td>2</td>\n",
       "      <td>Chennai</td>\n",
       "      <td>2011</td>\n",
       "      <td>46000</td>\n",
       "      <td>Petrol</td>\n",
       "      <td>Manual</td>\n",
       "      <td>1</td>\n",
       "      <td>5.0</td>\n",
       "      <td>4.50</td>\n",
       "      <td>Honda</td>\n",
       "      <td>18.20</td>\n",
       "      <td>1199.0</td>\n",
       "      <td>88.70</td>\n",
       "      <td>8.61</td>\n",
       "    </tr>\n",
       "    <tr>\n",
       "      <th>3</th>\n",
       "      <td>3</td>\n",
       "      <td>Chennai</td>\n",
       "      <td>2012</td>\n",
       "      <td>87000</td>\n",
       "      <td>Diesel</td>\n",
       "      <td>Manual</td>\n",
       "      <td>1</td>\n",
       "      <td>7.0</td>\n",
       "      <td>6.00</td>\n",
       "      <td>Maruti</td>\n",
       "      <td>20.77</td>\n",
       "      <td>1248.0</td>\n",
       "      <td>88.76</td>\n",
       "      <td>NaN</td>\n",
       "    </tr>\n",
       "    <tr>\n",
       "      <th>4</th>\n",
       "      <td>4</td>\n",
       "      <td>Coimbatore</td>\n",
       "      <td>2013</td>\n",
       "      <td>40670</td>\n",
       "      <td>Diesel</td>\n",
       "      <td>Automatic</td>\n",
       "      <td>2</td>\n",
       "      <td>5.0</td>\n",
       "      <td>17.74</td>\n",
       "      <td>Audi</td>\n",
       "      <td>15.20</td>\n",
       "      <td>1968.0</td>\n",
       "      <td>140.80</td>\n",
       "      <td>NaN</td>\n",
       "    </tr>\n",
       "  </tbody>\n",
       "</table>\n",
       "</div>"
      ],
      "text/plain": [
       "   Unnamed: 0    Location  Year  Kilometers_Driven Fuel_Type Transmission  \\\n",
       "0           0      Mumbai  2010              72000       CNG       Manual   \n",
       "1           1        Pune  2015              41000    Diesel       Manual   \n",
       "2           2     Chennai  2011              46000    Petrol       Manual   \n",
       "3           3     Chennai  2012              87000    Diesel       Manual   \n",
       "4           4  Coimbatore  2013              40670    Diesel    Automatic   \n",
       "\n",
       "   Owner_Type  Seats  Price  Company  Mileage(km/kg)  Engine(CC)  Power(bhp)  \\\n",
       "0           1    5.0   1.75   Maruti           26.60       998.0       58.16   \n",
       "1           1    5.0  12.50  Hyundai           19.67      1582.0      126.20   \n",
       "2           1    5.0   4.50    Honda           18.20      1199.0       88.70   \n",
       "3           1    7.0   6.00   Maruti           20.77      1248.0       88.76   \n",
       "4           2    5.0  17.74     Audi           15.20      1968.0      140.80   \n",
       "\n",
       "   New_car_Price  \n",
       "0            NaN  \n",
       "1            NaN  \n",
       "2           8.61  \n",
       "3            NaN  \n",
       "4            NaN  "
      ]
     },
     "execution_count": 158,
     "metadata": {},
     "output_type": "execute_result"
    }
   ],
   "source": [
    "train_data.replace({\"First\":1,\"Second\":2,\"Third\": 3,\"Fourth & Above\":4},inplace=True)\n",
    "train_data.head()"
   ]
  },
  {
   "cell_type": "markdown",
   "metadata": {},
   "source": [
    "### Working with Company"
   ]
  },
  {
   "cell_type": "code",
   "execution_count": 159,
   "metadata": {},
   "outputs": [
    {
     "data": {
      "text/plain": [
       "Maruti           1175\n",
       "Hyundai          1058\n",
       "Honda             600\n",
       "Toyota            394\n",
       "Mercedes-Benz     316\n",
       "Volkswagen        314\n",
       "Ford              294\n",
       "Mahindra          268\n",
       "BMW               262\n",
       "Audi              235\n",
       "Tata              183\n",
       "Skoda             172\n",
       "Renault           145\n",
       "Chevrolet         120\n",
       "Nissan             89\n",
       "Land               57\n",
       "Jaguar             40\n",
       "Mitsubishi         27\n",
       "Mini               26\n",
       "Fiat               23\n",
       "Volvo              21\n",
       "Porsche            16\n",
       "Jeep               15\n",
       "Datsun             13\n",
       "Force               3\n",
       "ISUZU               2\n",
       "Ambassador          1\n",
       "Lamborghini         1\n",
       "Bentley             1\n",
       "Isuzu               1\n",
       "Name: Company, dtype: int64"
      ]
     },
     "execution_count": 159,
     "metadata": {},
     "output_type": "execute_result"
    }
   ],
   "source": [
    "var = 'Company'\n",
    "train_data[var].value_counts()"
   ]
  },
  {
   "cell_type": "code",
   "execution_count": null,
   "metadata": {},
   "outputs": [],
   "source": [
    "# Plot Company vs Price\n",
    "# Yes we did this earlier... but used here for the work required here\n",
    "sns.catplot(y='Price',x=var,data= train_data.sort_values('Price',ascending=False),kind=\"boxen\",height=6, aspect=3)\n",
    "plt.show"
   ]
  },
  {
   "cell_type": "markdown",
   "metadata": {},
   "source": [
    "A lot of variation so let's drop them"
   ]
  },
  {
   "cell_type": "code",
   "execution_count": 160,
   "metadata": {},
   "outputs": [],
   "source": [
    "train_data.drop([\"Company\"],axis=1,inplace=True)"
   ]
  },
  {
   "cell_type": "code",
   "execution_count": 161,
   "metadata": {},
   "outputs": [
    {
     "data": {
      "text/html": [
       "<div>\n",
       "<style scoped>\n",
       "    .dataframe tbody tr th:only-of-type {\n",
       "        vertical-align: middle;\n",
       "    }\n",
       "\n",
       "    .dataframe tbody tr th {\n",
       "        vertical-align: top;\n",
       "    }\n",
       "\n",
       "    .dataframe thead th {\n",
       "        text-align: right;\n",
       "    }\n",
       "</style>\n",
       "<table border=\"1\" class=\"dataframe\">\n",
       "  <thead>\n",
       "    <tr style=\"text-align: right;\">\n",
       "      <th></th>\n",
       "      <th>Unnamed: 0</th>\n",
       "      <th>Location</th>\n",
       "      <th>Year</th>\n",
       "      <th>Kilometers_Driven</th>\n",
       "      <th>Fuel_Type</th>\n",
       "      <th>Transmission</th>\n",
       "      <th>Owner_Type</th>\n",
       "      <th>Seats</th>\n",
       "      <th>Price</th>\n",
       "      <th>Mileage(km/kg)</th>\n",
       "      <th>...</th>\n",
       "      <th>Location_Hyderabad</th>\n",
       "      <th>Location_Jaipur</th>\n",
       "      <th>Location_Kochi</th>\n",
       "      <th>Location_Kolkata</th>\n",
       "      <th>Location_Mumbai</th>\n",
       "      <th>Location_Pune</th>\n",
       "      <th>Fuel_Type_Diesel</th>\n",
       "      <th>Fuel_Type_LPG</th>\n",
       "      <th>Fuel_Type_Petrol</th>\n",
       "      <th>Transmission_Manual</th>\n",
       "    </tr>\n",
       "  </thead>\n",
       "  <tbody>\n",
       "    <tr>\n",
       "      <th>0</th>\n",
       "      <td>0</td>\n",
       "      <td>Mumbai</td>\n",
       "      <td>2010</td>\n",
       "      <td>72000</td>\n",
       "      <td>CNG</td>\n",
       "      <td>Manual</td>\n",
       "      <td>1</td>\n",
       "      <td>5.0</td>\n",
       "      <td>1.75</td>\n",
       "      <td>26.60</td>\n",
       "      <td>...</td>\n",
       "      <td>0</td>\n",
       "      <td>0</td>\n",
       "      <td>0</td>\n",
       "      <td>0</td>\n",
       "      <td>1</td>\n",
       "      <td>0</td>\n",
       "      <td>0</td>\n",
       "      <td>0</td>\n",
       "      <td>0</td>\n",
       "      <td>1</td>\n",
       "    </tr>\n",
       "    <tr>\n",
       "      <th>1</th>\n",
       "      <td>1</td>\n",
       "      <td>Pune</td>\n",
       "      <td>2015</td>\n",
       "      <td>41000</td>\n",
       "      <td>Diesel</td>\n",
       "      <td>Manual</td>\n",
       "      <td>1</td>\n",
       "      <td>5.0</td>\n",
       "      <td>12.50</td>\n",
       "      <td>19.67</td>\n",
       "      <td>...</td>\n",
       "      <td>0</td>\n",
       "      <td>0</td>\n",
       "      <td>0</td>\n",
       "      <td>0</td>\n",
       "      <td>0</td>\n",
       "      <td>1</td>\n",
       "      <td>1</td>\n",
       "      <td>0</td>\n",
       "      <td>0</td>\n",
       "      <td>1</td>\n",
       "    </tr>\n",
       "    <tr>\n",
       "      <th>2</th>\n",
       "      <td>2</td>\n",
       "      <td>Chennai</td>\n",
       "      <td>2011</td>\n",
       "      <td>46000</td>\n",
       "      <td>Petrol</td>\n",
       "      <td>Manual</td>\n",
       "      <td>1</td>\n",
       "      <td>5.0</td>\n",
       "      <td>4.50</td>\n",
       "      <td>18.20</td>\n",
       "      <td>...</td>\n",
       "      <td>0</td>\n",
       "      <td>0</td>\n",
       "      <td>0</td>\n",
       "      <td>0</td>\n",
       "      <td>0</td>\n",
       "      <td>0</td>\n",
       "      <td>0</td>\n",
       "      <td>0</td>\n",
       "      <td>1</td>\n",
       "      <td>1</td>\n",
       "    </tr>\n",
       "    <tr>\n",
       "      <th>3</th>\n",
       "      <td>3</td>\n",
       "      <td>Chennai</td>\n",
       "      <td>2012</td>\n",
       "      <td>87000</td>\n",
       "      <td>Diesel</td>\n",
       "      <td>Manual</td>\n",
       "      <td>1</td>\n",
       "      <td>7.0</td>\n",
       "      <td>6.00</td>\n",
       "      <td>20.77</td>\n",
       "      <td>...</td>\n",
       "      <td>0</td>\n",
       "      <td>0</td>\n",
       "      <td>0</td>\n",
       "      <td>0</td>\n",
       "      <td>0</td>\n",
       "      <td>0</td>\n",
       "      <td>1</td>\n",
       "      <td>0</td>\n",
       "      <td>0</td>\n",
       "      <td>1</td>\n",
       "    </tr>\n",
       "    <tr>\n",
       "      <th>4</th>\n",
       "      <td>4</td>\n",
       "      <td>Coimbatore</td>\n",
       "      <td>2013</td>\n",
       "      <td>40670</td>\n",
       "      <td>Diesel</td>\n",
       "      <td>Automatic</td>\n",
       "      <td>2</td>\n",
       "      <td>5.0</td>\n",
       "      <td>17.74</td>\n",
       "      <td>15.20</td>\n",
       "      <td>...</td>\n",
       "      <td>0</td>\n",
       "      <td>0</td>\n",
       "      <td>0</td>\n",
       "      <td>0</td>\n",
       "      <td>0</td>\n",
       "      <td>0</td>\n",
       "      <td>1</td>\n",
       "      <td>0</td>\n",
       "      <td>0</td>\n",
       "      <td>0</td>\n",
       "    </tr>\n",
       "  </tbody>\n",
       "</table>\n",
       "<p>5 rows × 27 columns</p>\n",
       "</div>"
      ],
      "text/plain": [
       "   Unnamed: 0    Location  Year  Kilometers_Driven Fuel_Type Transmission  \\\n",
       "0           0      Mumbai  2010              72000       CNG       Manual   \n",
       "1           1        Pune  2015              41000    Diesel       Manual   \n",
       "2           2     Chennai  2011              46000    Petrol       Manual   \n",
       "3           3     Chennai  2012              87000    Diesel       Manual   \n",
       "4           4  Coimbatore  2013              40670    Diesel    Automatic   \n",
       "\n",
       "   Owner_Type  Seats  Price  Mileage(km/kg)  ...  Location_Hyderabad  \\\n",
       "0           1    5.0   1.75           26.60  ...                   0   \n",
       "1           1    5.0  12.50           19.67  ...                   0   \n",
       "2           1    5.0   4.50           18.20  ...                   0   \n",
       "3           1    7.0   6.00           20.77  ...                   0   \n",
       "4           2    5.0  17.74           15.20  ...                   0   \n",
       "\n",
       "   Location_Jaipur  Location_Kochi  Location_Kolkata  Location_Mumbai  \\\n",
       "0                0               0                 0                1   \n",
       "1                0               0                 0                0   \n",
       "2                0               0                 0                0   \n",
       "3                0               0                 0                0   \n",
       "4                0               0                 0                0   \n",
       "\n",
       "   Location_Pune  Fuel_Type_Diesel  Fuel_Type_LPG  Fuel_Type_Petrol  \\\n",
       "0              0                 0              0                 0   \n",
       "1              1                 1              0                 0   \n",
       "2              0                 0              0                 1   \n",
       "3              0                 1              0                 0   \n",
       "4              0                 1              0                 0   \n",
       "\n",
       "   Transmission_Manual  \n",
       "0                    1  \n",
       "1                    1  \n",
       "2                    1  \n",
       "3                    1  \n",
       "4                    0  \n",
       "\n",
       "[5 rows x 27 columns]"
      ]
     },
     "execution_count": 161,
     "metadata": {},
     "output_type": "execute_result"
    }
   ],
   "source": [
    "final_train= pd.concat([train_data,Location,Fuel_t,Transmission],axis=1)\n",
    "final_train.head()"
   ]
  },
  {
   "cell_type": "code",
   "execution_count": 162,
   "metadata": {},
   "outputs": [
    {
     "data": {
      "text/html": [
       "<div>\n",
       "<style scoped>\n",
       "    .dataframe tbody tr th:only-of-type {\n",
       "        vertical-align: middle;\n",
       "    }\n",
       "\n",
       "    .dataframe tbody tr th {\n",
       "        vertical-align: top;\n",
       "    }\n",
       "\n",
       "    .dataframe thead th {\n",
       "        text-align: right;\n",
       "    }\n",
       "</style>\n",
       "<table border=\"1\" class=\"dataframe\">\n",
       "  <thead>\n",
       "    <tr style=\"text-align: right;\">\n",
       "      <th></th>\n",
       "      <th>Unnamed: 0</th>\n",
       "      <th>Year</th>\n",
       "      <th>Kilometers_Driven</th>\n",
       "      <th>Owner_Type</th>\n",
       "      <th>Seats</th>\n",
       "      <th>Price</th>\n",
       "      <th>Mileage(km/kg)</th>\n",
       "      <th>Engine(CC)</th>\n",
       "      <th>Power(bhp)</th>\n",
       "      <th>Location_Bangalore</th>\n",
       "      <th>...</th>\n",
       "      <th>Location_Hyderabad</th>\n",
       "      <th>Location_Jaipur</th>\n",
       "      <th>Location_Kochi</th>\n",
       "      <th>Location_Kolkata</th>\n",
       "      <th>Location_Mumbai</th>\n",
       "      <th>Location_Pune</th>\n",
       "      <th>Fuel_Type_Diesel</th>\n",
       "      <th>Fuel_Type_LPG</th>\n",
       "      <th>Fuel_Type_Petrol</th>\n",
       "      <th>Transmission_Manual</th>\n",
       "    </tr>\n",
       "  </thead>\n",
       "  <tbody>\n",
       "    <tr>\n",
       "      <th>0</th>\n",
       "      <td>0</td>\n",
       "      <td>2010</td>\n",
       "      <td>72000</td>\n",
       "      <td>1</td>\n",
       "      <td>5.0</td>\n",
       "      <td>1.75</td>\n",
       "      <td>26.60</td>\n",
       "      <td>998.0</td>\n",
       "      <td>58.16</td>\n",
       "      <td>0</td>\n",
       "      <td>...</td>\n",
       "      <td>0</td>\n",
       "      <td>0</td>\n",
       "      <td>0</td>\n",
       "      <td>0</td>\n",
       "      <td>1</td>\n",
       "      <td>0</td>\n",
       "      <td>0</td>\n",
       "      <td>0</td>\n",
       "      <td>0</td>\n",
       "      <td>1</td>\n",
       "    </tr>\n",
       "    <tr>\n",
       "      <th>1</th>\n",
       "      <td>1</td>\n",
       "      <td>2015</td>\n",
       "      <td>41000</td>\n",
       "      <td>1</td>\n",
       "      <td>5.0</td>\n",
       "      <td>12.50</td>\n",
       "      <td>19.67</td>\n",
       "      <td>1582.0</td>\n",
       "      <td>126.20</td>\n",
       "      <td>0</td>\n",
       "      <td>...</td>\n",
       "      <td>0</td>\n",
       "      <td>0</td>\n",
       "      <td>0</td>\n",
       "      <td>0</td>\n",
       "      <td>0</td>\n",
       "      <td>1</td>\n",
       "      <td>1</td>\n",
       "      <td>0</td>\n",
       "      <td>0</td>\n",
       "      <td>1</td>\n",
       "    </tr>\n",
       "    <tr>\n",
       "      <th>2</th>\n",
       "      <td>2</td>\n",
       "      <td>2011</td>\n",
       "      <td>46000</td>\n",
       "      <td>1</td>\n",
       "      <td>5.0</td>\n",
       "      <td>4.50</td>\n",
       "      <td>18.20</td>\n",
       "      <td>1199.0</td>\n",
       "      <td>88.70</td>\n",
       "      <td>0</td>\n",
       "      <td>...</td>\n",
       "      <td>0</td>\n",
       "      <td>0</td>\n",
       "      <td>0</td>\n",
       "      <td>0</td>\n",
       "      <td>0</td>\n",
       "      <td>0</td>\n",
       "      <td>0</td>\n",
       "      <td>0</td>\n",
       "      <td>1</td>\n",
       "      <td>1</td>\n",
       "    </tr>\n",
       "    <tr>\n",
       "      <th>3</th>\n",
       "      <td>3</td>\n",
       "      <td>2012</td>\n",
       "      <td>87000</td>\n",
       "      <td>1</td>\n",
       "      <td>7.0</td>\n",
       "      <td>6.00</td>\n",
       "      <td>20.77</td>\n",
       "      <td>1248.0</td>\n",
       "      <td>88.76</td>\n",
       "      <td>0</td>\n",
       "      <td>...</td>\n",
       "      <td>0</td>\n",
       "      <td>0</td>\n",
       "      <td>0</td>\n",
       "      <td>0</td>\n",
       "      <td>0</td>\n",
       "      <td>0</td>\n",
       "      <td>1</td>\n",
       "      <td>0</td>\n",
       "      <td>0</td>\n",
       "      <td>1</td>\n",
       "    </tr>\n",
       "    <tr>\n",
       "      <th>4</th>\n",
       "      <td>4</td>\n",
       "      <td>2013</td>\n",
       "      <td>40670</td>\n",
       "      <td>2</td>\n",
       "      <td>5.0</td>\n",
       "      <td>17.74</td>\n",
       "      <td>15.20</td>\n",
       "      <td>1968.0</td>\n",
       "      <td>140.80</td>\n",
       "      <td>0</td>\n",
       "      <td>...</td>\n",
       "      <td>0</td>\n",
       "      <td>0</td>\n",
       "      <td>0</td>\n",
       "      <td>0</td>\n",
       "      <td>0</td>\n",
       "      <td>0</td>\n",
       "      <td>1</td>\n",
       "      <td>0</td>\n",
       "      <td>0</td>\n",
       "      <td>0</td>\n",
       "    </tr>\n",
       "  </tbody>\n",
       "</table>\n",
       "<p>5 rows × 23 columns</p>\n",
       "</div>"
      ],
      "text/plain": [
       "   Unnamed: 0  Year  Kilometers_Driven  Owner_Type  Seats  Price  \\\n",
       "0           0  2010              72000           1    5.0   1.75   \n",
       "1           1  2015              41000           1    5.0  12.50   \n",
       "2           2  2011              46000           1    5.0   4.50   \n",
       "3           3  2012              87000           1    7.0   6.00   \n",
       "4           4  2013              40670           2    5.0  17.74   \n",
       "\n",
       "   Mileage(km/kg)  Engine(CC)  Power(bhp)  Location_Bangalore  ...  \\\n",
       "0           26.60       998.0       58.16                   0  ...   \n",
       "1           19.67      1582.0      126.20                   0  ...   \n",
       "2           18.20      1199.0       88.70                   0  ...   \n",
       "3           20.77      1248.0       88.76                   0  ...   \n",
       "4           15.20      1968.0      140.80                   0  ...   \n",
       "\n",
       "   Location_Hyderabad  Location_Jaipur  Location_Kochi  Location_Kolkata  \\\n",
       "0                   0                0               0                 0   \n",
       "1                   0                0               0                 0   \n",
       "2                   0                0               0                 0   \n",
       "3                   0                0               0                 0   \n",
       "4                   0                0               0                 0   \n",
       "\n",
       "   Location_Mumbai  Location_Pune  Fuel_Type_Diesel  Fuel_Type_LPG  \\\n",
       "0                1              0                 0              0   \n",
       "1                0              1                 1              0   \n",
       "2                0              0                 0              0   \n",
       "3                0              0                 1              0   \n",
       "4                0              0                 1              0   \n",
       "\n",
       "   Fuel_Type_Petrol  Transmission_Manual  \n",
       "0                 0                    1  \n",
       "1                 0                    1  \n",
       "2                 1                    1  \n",
       "3                 0                    1  \n",
       "4                 0                    0  \n",
       "\n",
       "[5 rows x 23 columns]"
      ]
     },
     "execution_count": 162,
     "metadata": {},
     "output_type": "execute_result"
    }
   ],
   "source": [
    "final_train.drop([\"Location\",\"Fuel_Type\",\"Transmission\",\"New_car_Price\"],axis=1,inplace=True)\n",
    "final_train.head()"
   ]
  },
  {
   "cell_type": "markdown",
   "metadata": {},
   "source": [
    "We are Done with Training data, so now work on Test Data"
   ]
  },
  {
   "cell_type": "markdown",
   "metadata": {},
   "source": [
    "# Prepare Test Data"
   ]
  },
  {
   "cell_type": "code",
   "execution_count": 163,
   "metadata": {},
   "outputs": [
    {
     "data": {
      "text/html": [
       "<div>\n",
       "<style scoped>\n",
       "    .dataframe tbody tr th:only-of-type {\n",
       "        vertical-align: middle;\n",
       "    }\n",
       "\n",
       "    .dataframe tbody tr th {\n",
       "        vertical-align: top;\n",
       "    }\n",
       "\n",
       "    .dataframe thead th {\n",
       "        text-align: right;\n",
       "    }\n",
       "</style>\n",
       "<table border=\"1\" class=\"dataframe\">\n",
       "  <thead>\n",
       "    <tr style=\"text-align: right;\">\n",
       "      <th></th>\n",
       "      <th>Unnamed: 0</th>\n",
       "      <th>Name</th>\n",
       "      <th>Location</th>\n",
       "      <th>Year</th>\n",
       "      <th>Kilometers_Driven</th>\n",
       "      <th>Fuel_Type</th>\n",
       "      <th>Transmission</th>\n",
       "      <th>Owner_Type</th>\n",
       "      <th>Mileage</th>\n",
       "      <th>Engine</th>\n",
       "      <th>Power</th>\n",
       "      <th>Seats</th>\n",
       "      <th>New_Price</th>\n",
       "    </tr>\n",
       "  </thead>\n",
       "  <tbody>\n",
       "    <tr>\n",
       "      <th>0</th>\n",
       "      <td>0</td>\n",
       "      <td>Maruti Alto K10 LXI CNG</td>\n",
       "      <td>Delhi</td>\n",
       "      <td>2014</td>\n",
       "      <td>40929</td>\n",
       "      <td>CNG</td>\n",
       "      <td>Manual</td>\n",
       "      <td>First</td>\n",
       "      <td>32.26 km/kg</td>\n",
       "      <td>998 CC</td>\n",
       "      <td>58.2 bhp</td>\n",
       "      <td>4.0</td>\n",
       "      <td>NaN</td>\n",
       "    </tr>\n",
       "    <tr>\n",
       "      <th>1</th>\n",
       "      <td>1</td>\n",
       "      <td>Maruti Alto 800 2016-2019 LXI</td>\n",
       "      <td>Coimbatore</td>\n",
       "      <td>2013</td>\n",
       "      <td>54493</td>\n",
       "      <td>Petrol</td>\n",
       "      <td>Manual</td>\n",
       "      <td>Second</td>\n",
       "      <td>24.7 kmpl</td>\n",
       "      <td>796 CC</td>\n",
       "      <td>47.3 bhp</td>\n",
       "      <td>5.0</td>\n",
       "      <td>NaN</td>\n",
       "    </tr>\n",
       "    <tr>\n",
       "      <th>2</th>\n",
       "      <td>2</td>\n",
       "      <td>Toyota Innova Crysta Touring Sport 2.4 MT</td>\n",
       "      <td>Mumbai</td>\n",
       "      <td>2017</td>\n",
       "      <td>34000</td>\n",
       "      <td>Diesel</td>\n",
       "      <td>Manual</td>\n",
       "      <td>First</td>\n",
       "      <td>13.68 kmpl</td>\n",
       "      <td>2393 CC</td>\n",
       "      <td>147.8 bhp</td>\n",
       "      <td>7.0</td>\n",
       "      <td>25.27 Lakh</td>\n",
       "    </tr>\n",
       "    <tr>\n",
       "      <th>3</th>\n",
       "      <td>3</td>\n",
       "      <td>Toyota Etios Liva GD</td>\n",
       "      <td>Hyderabad</td>\n",
       "      <td>2012</td>\n",
       "      <td>139000</td>\n",
       "      <td>Diesel</td>\n",
       "      <td>Manual</td>\n",
       "      <td>First</td>\n",
       "      <td>23.59 kmpl</td>\n",
       "      <td>1364 CC</td>\n",
       "      <td>null bhp</td>\n",
       "      <td>5.0</td>\n",
       "      <td>NaN</td>\n",
       "    </tr>\n",
       "    <tr>\n",
       "      <th>4</th>\n",
       "      <td>4</td>\n",
       "      <td>Hyundai i20 Magna</td>\n",
       "      <td>Mumbai</td>\n",
       "      <td>2014</td>\n",
       "      <td>29000</td>\n",
       "      <td>Petrol</td>\n",
       "      <td>Manual</td>\n",
       "      <td>First</td>\n",
       "      <td>18.5 kmpl</td>\n",
       "      <td>1197 CC</td>\n",
       "      <td>82.85 bhp</td>\n",
       "      <td>5.0</td>\n",
       "      <td>NaN</td>\n",
       "    </tr>\n",
       "  </tbody>\n",
       "</table>\n",
       "</div>"
      ],
      "text/plain": [
       "   Unnamed: 0                                       Name    Location  Year  \\\n",
       "0           0                    Maruti Alto K10 LXI CNG       Delhi  2014   \n",
       "1           1              Maruti Alto 800 2016-2019 LXI  Coimbatore  2013   \n",
       "2           2  Toyota Innova Crysta Touring Sport 2.4 MT      Mumbai  2017   \n",
       "3           3                       Toyota Etios Liva GD   Hyderabad  2012   \n",
       "4           4                          Hyundai i20 Magna      Mumbai  2014   \n",
       "\n",
       "   Kilometers_Driven Fuel_Type Transmission Owner_Type      Mileage   Engine  \\\n",
       "0              40929       CNG       Manual      First  32.26 km/kg   998 CC   \n",
       "1              54493    Petrol       Manual     Second    24.7 kmpl   796 CC   \n",
       "2              34000    Diesel       Manual      First   13.68 kmpl  2393 CC   \n",
       "3             139000    Diesel       Manual      First   23.59 kmpl  1364 CC   \n",
       "4              29000    Petrol       Manual      First    18.5 kmpl  1197 CC   \n",
       "\n",
       "       Power  Seats   New_Price  \n",
       "0   58.2 bhp    4.0         NaN  \n",
       "1   47.3 bhp    5.0         NaN  \n",
       "2  147.8 bhp    7.0  25.27 Lakh  \n",
       "3   null bhp    5.0         NaN  \n",
       "4  82.85 bhp    5.0         NaN  "
      ]
     },
     "execution_count": 163,
     "metadata": {},
     "output_type": "execute_result"
    }
   ],
   "source": [
    "test_data.head()"
   ]
  },
  {
   "cell_type": "markdown",
   "metadata": {},
   "source": [
    "We will have to prepare this test data with performing all the steps agaon for test data"
   ]
  },
  {
   "cell_type": "code",
   "execution_count": 164,
   "metadata": {},
   "outputs": [
    {
     "name": "stdout",
     "output_type": "stream",
     "text": [
      "Shape of test data Before dropping any Row:  (5872, 13)\n",
      "Shape of test data After dropping Rows with NULL values in Mileage:  (1234, 12)\n",
      "Shape of test data After dropping Rows with NULL values in Engine :  (1224, 12)\n",
      "Shape of test data After dropping Rows with NULL values in Power  :  (1224, 12)\n",
      "Shape of test data After dropping Rows with NULL values in Seats  :  (1223, 12)\n",
      "Droping null done\n",
      "Index reset done\n",
      "Split Done\n",
      "casting 1 Done\n",
      "casting 2 Done\n",
      "Final Test Size:  (1201, 21)\n"
     ]
    }
   ],
   "source": [
    "test_data = test_data.iloc[:,1:]\n",
    "\n",
    "print(\"Shape of test data Before dropping any Row: \",train_data.shape)\n",
    "test_data = test_data[test_data['Mileage'].notna()]\n",
    "print(\"Shape of test data After dropping Rows with NULL values in Mileage: \",test_data.shape)\n",
    "test_data = test_data[test_data['Engine'].notna()]\n",
    "print(\"Shape of test data After dropping Rows with NULL values in Engine : \",test_data.shape)\n",
    "test_data = test_data[test_data['Power'].notna()]\n",
    "print(\"Shape of test data After dropping Rows with NULL values in Power  : \",test_data.shape)\n",
    "test_data = test_data[test_data['Seats'].notna()]\n",
    "print(\"Shape of test data After dropping Rows with NULL values in Seats  : \",test_data.shape)\n",
    "print('Droping null done')\n",
    "\n",
    "test_data = test_data.reset_index(drop=True)\n",
    "print('Index reset done')\n",
    "\n",
    "for i in range(test_data.shape[0]):\n",
    "    test_data.at[i, 'Mileage(km/kg)'] = test_data['Mileage'][i].split()[0]\n",
    "    test_data.at[i, 'Engine(CC)'] = test_data['Engine'][i].split()[0]\n",
    "    test_data.at[i, 'Power(bhp)'] = test_data['Power'][i].split()[0]\n",
    "print('Split Done') \n",
    "\n",
    "test_data['Mileage(km/kg)'] = test_data['Mileage(km/kg)'].astype(float)\n",
    "test_data['Engine(CC)'] = test_data['Engine(CC)'].astype(float)\n",
    "print('casting 1 Done') \n",
    "\n",
    "position = []\n",
    "for i in range(test_data.shape[0]):\n",
    "    if test_data['Power(bhp)'][i]=='null':\n",
    "        position.append(i)\n",
    "        \n",
    "test_data = test_data.drop(test_data.index[position])\n",
    "test_data = test_data.reset_index(drop=True) \n",
    "\n",
    "test_data['Power(bhp)'] = test_data['Power(bhp)'].astype(float)\n",
    "print('casting 2 Done') \n",
    "\n",
    "for i in range(test_data.shape[0]):\n",
    "    if pd.isnull(test_data.loc[i,'New_Price']) == False:\n",
    "        test_data.at[i,'New_car_Price'] = test_data['New_Price'][i].split()[0]\n",
    "\n",
    "test_data['New_car_Price'] = test_data['New_car_Price'].astype(float)\n",
    "\n",
    "test_data.drop([\"Name\"],axis=1,inplace=True)\n",
    "test_data.drop([\"Mileage\"],axis=1,inplace=True)\n",
    "test_data.drop([\"Engine\"],axis=1,inplace=True)\n",
    "test_data.drop([\"Power\"],axis=1,inplace=True)\n",
    "test_data.drop([\"New_Price\"],axis=1,inplace=True)\n",
    "\n",
    "var = 'Location'\n",
    "Location = test_data[[var]]\n",
    "Location = pd.get_dummies(Location,drop_first=True)\n",
    "Location.head()\n",
    "\n",
    "var = 'Fuel_Type'\n",
    "Fuel_t = test_data[[var]]\n",
    "Fuel_t = pd.get_dummies(Fuel_t,drop_first=True)\n",
    "Fuel_t.head()\n",
    "\n",
    "var = 'Transmission'\n",
    "Transmission = test_data[[var]]\n",
    "Transmission = pd.get_dummies(Transmission,drop_first=True)\n",
    "Transmission.head()\n",
    "\n",
    "test_data.replace({\"First\":1,\"Second\":2,\"Third\": 3,\"Fourth & Above\":4},inplace=True)\n",
    "test_data.head()\n",
    "\n",
    "final_test= pd.concat([test_data,Location,Fuel_t,Transmission],axis=1)\n",
    "final_test.head()\n",
    "\n",
    "final_test.drop([\"Location\",\"Fuel_Type\",\"Transmission\",\"New_car_Price\"],axis=1,inplace=True)\n",
    "final_test.head()\n",
    "\n",
    "print(\"Final Test Size: \",final_test.shape)\n"
   ]
  },
  {
   "cell_type": "code",
   "execution_count": 165,
   "metadata": {},
   "outputs": [
    {
     "data": {
      "text/html": [
       "<div>\n",
       "<style scoped>\n",
       "    .dataframe tbody tr th:only-of-type {\n",
       "        vertical-align: middle;\n",
       "    }\n",
       "\n",
       "    .dataframe tbody tr th {\n",
       "        vertical-align: top;\n",
       "    }\n",
       "\n",
       "    .dataframe thead th {\n",
       "        text-align: right;\n",
       "    }\n",
       "</style>\n",
       "<table border=\"1\" class=\"dataframe\">\n",
       "  <thead>\n",
       "    <tr style=\"text-align: right;\">\n",
       "      <th></th>\n",
       "      <th>Year</th>\n",
       "      <th>Kilometers_Driven</th>\n",
       "      <th>Owner_Type</th>\n",
       "      <th>Seats</th>\n",
       "      <th>Mileage(km/kg)</th>\n",
       "      <th>Engine(CC)</th>\n",
       "      <th>Power(bhp)</th>\n",
       "      <th>Location_Bangalore</th>\n",
       "      <th>Location_Chennai</th>\n",
       "      <th>Location_Coimbatore</th>\n",
       "      <th>...</th>\n",
       "      <th>Location_Hyderabad</th>\n",
       "      <th>Location_Jaipur</th>\n",
       "      <th>Location_Kochi</th>\n",
       "      <th>Location_Kolkata</th>\n",
       "      <th>Location_Mumbai</th>\n",
       "      <th>Location_Pune</th>\n",
       "      <th>Fuel_Type_Diesel</th>\n",
       "      <th>Fuel_Type_LPG</th>\n",
       "      <th>Fuel_Type_Petrol</th>\n",
       "      <th>Transmission_Manual</th>\n",
       "    </tr>\n",
       "  </thead>\n",
       "  <tbody>\n",
       "    <tr>\n",
       "      <th>0</th>\n",
       "      <td>2014</td>\n",
       "      <td>40929</td>\n",
       "      <td>1</td>\n",
       "      <td>4.0</td>\n",
       "      <td>32.26</td>\n",
       "      <td>998.0</td>\n",
       "      <td>58.20</td>\n",
       "      <td>0</td>\n",
       "      <td>0</td>\n",
       "      <td>0</td>\n",
       "      <td>...</td>\n",
       "      <td>0</td>\n",
       "      <td>0</td>\n",
       "      <td>0</td>\n",
       "      <td>0</td>\n",
       "      <td>0</td>\n",
       "      <td>0</td>\n",
       "      <td>0</td>\n",
       "      <td>0</td>\n",
       "      <td>0</td>\n",
       "      <td>1</td>\n",
       "    </tr>\n",
       "    <tr>\n",
       "      <th>1</th>\n",
       "      <td>2013</td>\n",
       "      <td>54493</td>\n",
       "      <td>2</td>\n",
       "      <td>5.0</td>\n",
       "      <td>24.70</td>\n",
       "      <td>796.0</td>\n",
       "      <td>47.30</td>\n",
       "      <td>0</td>\n",
       "      <td>0</td>\n",
       "      <td>1</td>\n",
       "      <td>...</td>\n",
       "      <td>0</td>\n",
       "      <td>0</td>\n",
       "      <td>0</td>\n",
       "      <td>0</td>\n",
       "      <td>0</td>\n",
       "      <td>0</td>\n",
       "      <td>0</td>\n",
       "      <td>0</td>\n",
       "      <td>1</td>\n",
       "      <td>1</td>\n",
       "    </tr>\n",
       "    <tr>\n",
       "      <th>2</th>\n",
       "      <td>2017</td>\n",
       "      <td>34000</td>\n",
       "      <td>1</td>\n",
       "      <td>7.0</td>\n",
       "      <td>13.68</td>\n",
       "      <td>2393.0</td>\n",
       "      <td>147.80</td>\n",
       "      <td>0</td>\n",
       "      <td>0</td>\n",
       "      <td>0</td>\n",
       "      <td>...</td>\n",
       "      <td>0</td>\n",
       "      <td>0</td>\n",
       "      <td>0</td>\n",
       "      <td>0</td>\n",
       "      <td>1</td>\n",
       "      <td>0</td>\n",
       "      <td>1</td>\n",
       "      <td>0</td>\n",
       "      <td>0</td>\n",
       "      <td>1</td>\n",
       "    </tr>\n",
       "    <tr>\n",
       "      <th>3</th>\n",
       "      <td>2014</td>\n",
       "      <td>29000</td>\n",
       "      <td>1</td>\n",
       "      <td>5.0</td>\n",
       "      <td>18.50</td>\n",
       "      <td>1197.0</td>\n",
       "      <td>82.85</td>\n",
       "      <td>0</td>\n",
       "      <td>0</td>\n",
       "      <td>0</td>\n",
       "      <td>...</td>\n",
       "      <td>0</td>\n",
       "      <td>0</td>\n",
       "      <td>0</td>\n",
       "      <td>0</td>\n",
       "      <td>1</td>\n",
       "      <td>0</td>\n",
       "      <td>0</td>\n",
       "      <td>0</td>\n",
       "      <td>1</td>\n",
       "      <td>1</td>\n",
       "    </tr>\n",
       "    <tr>\n",
       "      <th>4</th>\n",
       "      <td>2016</td>\n",
       "      <td>85609</td>\n",
       "      <td>2</td>\n",
       "      <td>7.0</td>\n",
       "      <td>16.00</td>\n",
       "      <td>2179.0</td>\n",
       "      <td>140.00</td>\n",
       "      <td>0</td>\n",
       "      <td>0</td>\n",
       "      <td>1</td>\n",
       "      <td>...</td>\n",
       "      <td>0</td>\n",
       "      <td>0</td>\n",
       "      <td>0</td>\n",
       "      <td>0</td>\n",
       "      <td>0</td>\n",
       "      <td>0</td>\n",
       "      <td>1</td>\n",
       "      <td>0</td>\n",
       "      <td>0</td>\n",
       "      <td>1</td>\n",
       "    </tr>\n",
       "  </tbody>\n",
       "</table>\n",
       "<p>5 rows × 21 columns</p>\n",
       "</div>"
      ],
      "text/plain": [
       "   Year  Kilometers_Driven  Owner_Type  Seats  Mileage(km/kg)  Engine(CC)  \\\n",
       "0  2014              40929           1    4.0           32.26       998.0   \n",
       "1  2013              54493           2    5.0           24.70       796.0   \n",
       "2  2017              34000           1    7.0           13.68      2393.0   \n",
       "3  2014              29000           1    5.0           18.50      1197.0   \n",
       "4  2016              85609           2    7.0           16.00      2179.0   \n",
       "\n",
       "   Power(bhp)  Location_Bangalore  Location_Chennai  Location_Coimbatore  ...  \\\n",
       "0       58.20                   0                 0                    0  ...   \n",
       "1       47.30                   0                 0                    1  ...   \n",
       "2      147.80                   0                 0                    0  ...   \n",
       "3       82.85                   0                 0                    0  ...   \n",
       "4      140.00                   0                 0                    1  ...   \n",
       "\n",
       "   Location_Hyderabad  Location_Jaipur  Location_Kochi  Location_Kolkata  \\\n",
       "0                   0                0               0                 0   \n",
       "1                   0                0               0                 0   \n",
       "2                   0                0               0                 0   \n",
       "3                   0                0               0                 0   \n",
       "4                   0                0               0                 0   \n",
       "\n",
       "   Location_Mumbai  Location_Pune  Fuel_Type_Diesel  Fuel_Type_LPG  \\\n",
       "0                0              0                 0              0   \n",
       "1                0              0                 0              0   \n",
       "2                1              0                 1              0   \n",
       "3                1              0                 0              0   \n",
       "4                0              0                 1              0   \n",
       "\n",
       "   Fuel_Type_Petrol  Transmission_Manual  \n",
       "0                 0                    1  \n",
       "1                 1                    1  \n",
       "2                 0                    1  \n",
       "3                 1                    1  \n",
       "4                 0                    1  \n",
       "\n",
       "[5 rows x 21 columns]"
      ]
     },
     "execution_count": 165,
     "metadata": {},
     "output_type": "execute_result"
    }
   ],
   "source": [
    "final_test.head()"
   ]
  },
  {
   "cell_type": "markdown",
   "metadata": {},
   "source": [
    "# Final Features Selection\n",
    "\n",
    "As our train and test data are ready so now we have to only look for features on which we have to work."
   ]
  },
  {
   "cell_type": "code",
   "execution_count": 171,
   "metadata": {},
   "outputs": [
    {
     "data": {
      "text/plain": [
       "Index(['Unnamed: 0', 'Year', 'Kilometers_Driven', 'Owner_Type', 'Seats',\n",
       "       'Price', 'Mileage(km/kg)', 'Engine(CC)', 'Power(bhp)',\n",
       "       'Location_Bangalore', 'Location_Chennai', 'Location_Coimbatore',\n",
       "       'Location_Delhi', 'Location_Hyderabad', 'Location_Jaipur',\n",
       "       'Location_Kochi', 'Location_Kolkata', 'Location_Mumbai',\n",
       "       'Location_Pune', 'Fuel_Type_Diesel', 'Fuel_Type_LPG',\n",
       "       'Fuel_Type_Petrol', 'Transmission_Manual'],\n",
       "      dtype='object')"
      ]
     },
     "execution_count": 171,
     "metadata": {},
     "output_type": "execute_result"
    }
   ],
   "source": [
    "final_train.columns"
   ]
  },
  {
   "cell_type": "code",
   "execution_count": 172,
   "metadata": {},
   "outputs": [
    {
     "data": {
      "text/plain": [
       "(5872, 21)"
      ]
     },
     "execution_count": 172,
     "metadata": {},
     "output_type": "execute_result"
    }
   ],
   "source": [
    "X = final_train.loc[:,['Year', 'Kilometers_Driven', 'Owner_Type', 'Seats',\n",
    "       'Mileage(km/kg)', 'Engine(CC)', 'Power(bhp)', \n",
    "       'Location_Bangalore', 'Location_Chennai', 'Location_Coimbatore',\n",
    "       'Location_Delhi', 'Location_Hyderabad', 'Location_Jaipur',\n",
    "       'Location_Kochi', 'Location_Kolkata', 'Location_Mumbai',\n",
    "       'Location_Pune', 'Fuel_Type_Diesel', 'Fuel_Type_LPG',\n",
    "       'Fuel_Type_Petrol', 'Transmission_Manual']]\n",
    "X.shape"
   ]
  },
  {
   "cell_type": "code",
   "execution_count": 173,
   "metadata": {},
   "outputs": [
    {
     "data": {
      "text/html": [
       "<div>\n",
       "<style scoped>\n",
       "    .dataframe tbody tr th:only-of-type {\n",
       "        vertical-align: middle;\n",
       "    }\n",
       "\n",
       "    .dataframe tbody tr th {\n",
       "        vertical-align: top;\n",
       "    }\n",
       "\n",
       "    .dataframe thead th {\n",
       "        text-align: right;\n",
       "    }\n",
       "</style>\n",
       "<table border=\"1\" class=\"dataframe\">\n",
       "  <thead>\n",
       "    <tr style=\"text-align: right;\">\n",
       "      <th></th>\n",
       "      <th>Price</th>\n",
       "    </tr>\n",
       "  </thead>\n",
       "  <tbody>\n",
       "    <tr>\n",
       "      <th>0</th>\n",
       "      <td>1.75</td>\n",
       "    </tr>\n",
       "    <tr>\n",
       "      <th>1</th>\n",
       "      <td>12.50</td>\n",
       "    </tr>\n",
       "    <tr>\n",
       "      <th>2</th>\n",
       "      <td>4.50</td>\n",
       "    </tr>\n",
       "    <tr>\n",
       "      <th>3</th>\n",
       "      <td>6.00</td>\n",
       "    </tr>\n",
       "    <tr>\n",
       "      <th>4</th>\n",
       "      <td>17.74</td>\n",
       "    </tr>\n",
       "  </tbody>\n",
       "</table>\n",
       "</div>"
      ],
      "text/plain": [
       "   Price\n",
       "0   1.75\n",
       "1  12.50\n",
       "2   4.50\n",
       "3   6.00\n",
       "4  17.74"
      ]
     },
     "execution_count": 173,
     "metadata": {},
     "output_type": "execute_result"
    }
   ],
   "source": [
    "y = final_train.loc[:,['Price']]\n",
    "y.head()"
   ]
  },
  {
   "cell_type": "code",
   "execution_count": 174,
   "metadata": {},
   "outputs": [],
   "source": [
    "# train_data"
   ]
  },
  {
   "cell_type": "code",
   "execution_count": 175,
   "metadata": {},
   "outputs": [
    {
     "data": {
      "image/png": "[encoded data removed]",
      "text/plain": [
       "<Figure size 1296x1296 with 2 Axes>"
      ]
     },
     "metadata": {},
     "output_type": "display_data"
    }
   ],
   "source": [
    "plt.figure(figsize=(18,18))\n",
    "sns.heatmap(train_data.corr(),annot=True,cmap='RdYlGn')\n",
    "\n",
    "plt.show()"
   ]
  },
  {
   "cell_type": "code",
   "execution_count": 176,
   "metadata": {},
   "outputs": [
    {
     "data": {
      "image/png": "[encoded data removed]",
      "text/plain": [
       "<Figure size 1296x1296 with 2 Axes>"
      ]
     },
     "metadata": {},
     "output_type": "display_data"
    }
   ],
   "source": [
    "plt.figure(figsize=(18,18))\n",
    "sns.heatmap(final_train.corr(),annot=True,cmap='RdYlGn')\n",
    "\n",
    "plt.show()"
   ]
  },
  {
   "cell_type": "code",
   "execution_count": 186,
   "metadata": {},
   "outputs": [
    {
     "data": {
      "text/plain": [
       "Price                  1.000000\n",
       "Power(bhp)             0.772843\n",
       "Engine(CC)             0.658047\n",
       "Transmission_Manual    0.585623\n",
       "Mileage(km/kg)         0.341652\n",
       "Fuel_Type_Diesel       0.321035\n",
       "Fuel_Type_Petrol       0.309363\n",
       "Year                   0.299475\n",
       "Location_Coimbatore    0.170479\n",
       "Location_Kolkata       0.107188\n",
       "Owner_Type             0.091098\n",
       "Location_Bangalore     0.089878\n",
       "Location_Jaipur        0.088486\n",
       "Location_Pune          0.080506\n",
       "Seats                  0.055547\n",
       "Location_Kochi         0.050992\n",
       "Location_Chennai       0.043814\n",
       "Fuel_Type_LPG          0.026132\n",
       "Unnamed: 0             0.021191\n",
       "Location_Hyderabad     0.010183\n",
       "Kilometers_Driven      0.008249\n",
       "Location_Mumbai        0.005800\n",
       "Location_Delhi         0.004978\n",
       "Name: Price, dtype: float64"
      ]
     },
     "execution_count": 186,
     "metadata": {},
     "output_type": "execute_result"
    }
   ],
   "source": [
    "abs(final_train.corr())['Price'].sort_values(ascending=False)"
   ]
  },
  {
   "cell_type": "code",
   "execution_count": 187,
   "metadata": {},
   "outputs": [],
   "source": [
    "X1 = final_train.loc[:,['Year',\n",
    "       'Mileage(km/kg)', 'Engine(CC)', 'Power(bhp)', 'Location_Coimbatore',\n",
    "       'Location_Delhi','Location_Kolkata','Fuel_Type_Diesel',\n",
    "       'Fuel_Type_Petrol', 'Transmission_Manual']]"
   ]
  },
  {
   "cell_type": "code",
   "execution_count": 177,
   "metadata": {},
   "outputs": [
    {
     "name": "stderr",
     "output_type": "stream",
     "text": [
      "<ipython-input-177-914d803b91a8>:3: DataConversionWarning: A column-vector y was passed when a 1d array was expected. Please change the shape of y to (n_samples,), for example using ravel().\n",
      "  selection.fit(X,y)\n"
     ]
    },
    {
     "data": {
      "text/plain": [
       "ExtraTreesRegressor()"
      ]
     },
     "execution_count": 177,
     "metadata": {},
     "output_type": "execute_result"
    }
   ],
   "source": [
    "from sklearn.ensemble import ExtraTreesRegressor\n",
    "selection= ExtraTreesRegressor()\n",
    "selection.fit(X,y)"
   ]
  },
  {
   "cell_type": "code",
   "execution_count": 181,
   "metadata": {},
   "outputs": [
    {
     "data": {
      "text/plain": [
       "Power(bhp)             2.660636e-01\n",
       "Transmission_Manual    2.642196e-01\n",
       "Year                   1.578149e-01\n",
       "Engine(CC)             1.158231e-01\n",
       "Fuel_Type_Diesel       5.336371e-02\n",
       "Seats                  3.391951e-02\n",
       "Kilometers_Driven      2.638032e-02\n",
       "Mileage(km/kg)         2.404319e-02\n",
       "Location_Hyderabad     1.234259e-02\n",
       "Location_Coimbatore    9.582338e-03\n",
       "Fuel_Type_Petrol       6.023086e-03\n",
       "Owner_Type             5.542785e-03\n",
       "Location_Bangalore     5.248346e-03\n",
       "Location_Kochi         5.039949e-03\n",
       "Location_Delhi         3.912340e-03\n",
       "Location_Mumbai        3.464017e-03\n",
       "Location_Kolkata       2.884940e-03\n",
       "Location_Chennai       2.240055e-03\n",
       "Location_Pune          1.289626e-03\n",
       "Location_Jaipur        8.011138e-04\n",
       "Fuel_Type_LPG          7.749287e-07\n",
       "dtype: float64"
      ]
     },
     "execution_count": 181,
     "metadata": {},
     "output_type": "execute_result"
    }
   ],
   "source": [
    "feat_importances.sort_values(ascending=False)"
   ]
  },
  {
   "cell_type": "code",
   "execution_count": 179,
   "metadata": {},
   "outputs": [
    {
     "data": {
      "image/png": "[encoded data removed]",
      "text/plain": [
       "<Figure size 864x576 with 1 Axes>"
      ]
     },
     "metadata": {},
     "output_type": "display_data"
    }
   ],
   "source": [
    "#plot graph of feature importances for better visualization\n",
    "\n",
    "plt.figure(figsize = (12,8))\n",
    "feat_importances = pd.Series(selection.feature_importances_, index=X.columns)\n",
    "feat_importances.nlargest(20).plot(kind='barh')\n",
    "plt.show()"
   ]
  },
  {
   "cell_type": "markdown",
   "metadata": {},
   "source": [
    "# Build it (Model)\n",
    "\n",
    "First we are spliting the data to train and test for the model"
   ]
  },
  {
   "cell_type": "code",
   "execution_count": 188,
   "metadata": {},
   "outputs": [],
   "source": [
    "from sklearn.model_selection import train_test_split\n",
    "X_train, X_test, y_train, y_test = train_test_split(X1, y, test_size = 0.2, random_state = 25)"
   ]
  },
  {
   "cell_type": "code",
   "execution_count": 189,
   "metadata": {},
   "outputs": [
    {
     "data": {
      "text/plain": [
       "((4697, 10), (1175, 10), (4697, 1), (1175, 1))"
      ]
     },
     "execution_count": 189,
     "metadata": {},
     "output_type": "execute_result"
    }
   ],
   "source": [
    "X_train.shape, X_test.shape, y_train.shape, y_test.shape"
   ]
  },
  {
   "cell_type": "markdown",
   "metadata": {},
   "source": [
    "### First let me try Linear Regression"
   ]
  },
  {
   "cell_type": "code",
   "execution_count": 190,
   "metadata": {},
   "outputs": [
    {
     "name": "stdout",
     "output_type": "stream",
     "text": [
      "Accuracy on Traing set:  0.7002609500739096\n",
      "Accuracy on Testing set:  0.6936937150777069\n"
     ]
    }
   ],
   "source": [
    "from sklearn.linear_model import LinearRegression\n",
    "linear_reg = LinearRegression()\n",
    "linear_reg.fit(X_train, y_train)\n",
    "y_pred= linear_reg.predict(X_test)\n",
    "print(\"Accuracy on Traing set: \",linear_reg.score(X_train,y_train))\n",
    "print(\"Accuracy on Testing set: \",linear_reg.score(X_test,y_test))"
   ]
  },
  {
   "cell_type": "markdown",
   "metadata": {},
   "source": [
    "#### Not a good accuracy so, let's try something more better."
   ]
  },
  {
   "cell_type": "markdown",
   "metadata": {},
   "source": [
    "### Now I am using Random Forest Regressor (obviously for better accuracy)"
   ]
  },
  {
   "cell_type": "code",
   "execution_count": 191,
   "metadata": {},
   "outputs": [
    {
     "name": "stderr",
     "output_type": "stream",
     "text": [
      "<ipython-input-191-d4d870abb6b4>:3: DataConversionWarning: A column-vector y was passed when a 1d array was expected. Please change the shape of y to (n_samples,), for example using ravel().\n",
      "  rf_reg.fit(X_train, y_train)\n"
     ]
    },
    {
     "name": "stdout",
     "output_type": "stream",
     "text": [
      "Accuracy on Traing set:  0.977349118114347\n",
      "Accuracy on Testing set:  0.9073531089348629\n"
     ]
    }
   ],
   "source": [
    "from sklearn.ensemble import RandomForestRegressor\n",
    "rf_reg = RandomForestRegressor()\n",
    "rf_reg.fit(X_train, y_train)\n",
    "y_pred= rf_reg.predict(X_test)\n",
    "print(\"Accuracy on Traing set: \",rf_reg.score(X_train,y_train))\n",
    "print(\"Accuracy on Testing set: \",rf_reg.score(X_test,y_test))"
   ]
  },
  {
   "cell_type": "markdown",
   "metadata": {},
   "source": [
    "💥💥💥💥 **Oh Yeah!!!!**\n",
    "\n",
    "That's a **Great Accuracy**"
   ]
  },
  {
   "cell_type": "code",
   "execution_count": 192,
   "metadata": {},
   "outputs": [
    {
     "name": "stdout",
     "output_type": "stream",
     "text": [
      "\t\tError Table\n",
      "Mean Absolute Error      :  1.5205697570496886\n",
      "Mean Squared  Error      :  10.857328043601857\n",
      "Root Mean Squared  Error :  3.2950459850511735\n",
      "R Squared Error          :  0.9073531089348629\n"
     ]
    }
   ],
   "source": [
    "from sklearn import metrics\n",
    "from sklearn.metrics import mean_squared_error, mean_absolute_error\n",
    "\n",
    "print(\"\\t\\tError Table\")\n",
    "print('Mean Absolute Error      : ', metrics.mean_absolute_error(y_test, y_pred))\n",
    "print('Mean Squared  Error      : ', metrics.mean_squared_error(y_test, y_pred))\n",
    "print('Root Mean Squared  Error : ', np.sqrt(metrics.mean_squared_error(y_test, y_pred)))\n",
    "print('R Squared Error          : ', metrics.r2_score(y_test, y_pred))"
   ]
  },
  {
   "cell_type": "markdown",
   "metadata": {},
   "source": [
    " So, Finally this NoteBook End here 🤵🏻\n",
    " \n",
    " One could go even further by Hyperparameter tuning. But, for now I left it  over you all\n",
    " \n",
    " Before going a humble request if you liked the notebook the \n",
    " <font color=\"Red\">Please Upvote ( It motivates me ) </font>\n",
    " \n",
    " And Stay Tuned... \n",
    " **I WILL BE ADDING LINK OF DEPLOYED MODEL SOON IN COMMENT SECTION**\n",
    " **If not done till Know**\n",
    " \n",
    " Till then Happy Coding\n",
    " "
   ]
  }
 ],
 "metadata": {
  "kernelspec": {
   "display_name": "Python 3",
   "language": "python",
   "name": "python3"
  },
  "language_info": {
   "codemirror_mode": {
    "name": "ipython",
    "version": 3
   },
   "file_extension": ".py",
   "mimetype": "text/x-python",
   "name": "python",
   "nbconvert_exporter": "python",
   "pygments_lexer": "ipython3",
   "version": "3.8.3"
  }
 },
 "nbformat": 4,
 "nbformat_minor": 4
}
